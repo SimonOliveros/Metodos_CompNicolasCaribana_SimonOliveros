{
 "cells": [
  {
   "cell_type": "code",
   "execution_count": 3,
   "metadata": {},
   "outputs": [
    {
     "name": "stdout",
     "output_type": "stream",
     "text": [
      "True\n",
      "True\n",
      "True\n",
      "True\n",
      "True\n",
      "True\n"
     ]
    }
   ],
   "source": [
    "import numpy as np\n",
    "from sympy.utilities.iterables import multiset_permutations\n",
    "j1=np.array([[0,1],[1,0]])\n",
    "j2=np.array([[0,-1j],[1j,0]])\n",
    "j3=np.array([[1,0],[0,-1]])\n",
    "\n",
    "\n",
    "matrices=np.array([j1,j2,j3])\n",
    "a = np.array([0,1,2])\n",
    "y=np.array([[0,0,0]])\n",
    "E=0\n",
    "p1=np.array([0,1,2])\n",
    "p2=np.array([1,2,0])\n",
    "p3=np.array([2,0,1])\n",
    "for p in multiset_permutations(a):\n",
    "  y=np.append(y,[p],axis=0)\n",
    "for i in range(1,7):\n",
    "  l=np.array(y[i])\n",
    "  if np.array_equal(l,p1) or np.array_equal(l,p2) or np.array_equal(l,p3) :\n",
    "    E=1\n",
    "  else:\n",
    "    E=-1\n",
    "  print((np.dot(matrices[l[0]] , matrices[l[1]]) - np.dot(matrices[l[1]], matrices[l[0]]) == 2j*E*matrices[l[2]]).all())"
   ]
  }
 ],
 "metadata": {
  "kernelspec": {
   "display_name": "Python 3",
   "language": "python",
   "name": "python3"
  },
  "language_info": {
   "codemirror_mode": {
    "name": "ipython",
    "version": 3
   },
   "file_extension": ".py",
   "mimetype": "text/x-python",
   "name": "python",
   "nbconvert_exporter": "python",
   "pygments_lexer": "ipython3",
   "version": "3.11.5"
  },
  "orig_nbformat": 4,
  "vscode": {
   "interpreter": {
    "hash": "31f2aee4e71d21fbe5cf8b01ff0e069b9275f58929596ceb00d14d90e3e16cd6"
   }
  }
 },
 "nbformat": 4,
 "nbformat_minor": 2
}
