{
 "cells": [
  {
   "cell_type": "code",
   "execution_count": 30,
   "metadata": {},
   "outputs": [],
   "source": [
    "import numpy as np\n",
    "import sympy as sym\n",
    "x = sym.Symbol('x',real=True)\n",
    "y = sym.Symbol('y',real=True)\n",
    "k=0.0732"
   ]
  },
  {
   "cell_type": "code",
   "execution_count": 31,
   "metadata": {},
   "outputs": [],
   "source": [
    "def f(x,y):\n",
    "    \n",
    "    z = x + sym.I*y\n",
    "    f = sym.sin(z)**6+(sym.sin(z)**2)*k-k\n",
    "    f = f.expand()\n",
    "    return sym.re(f),sym.im(f)"
   ]
  },
  {
   "cell_type": "code",
   "execution_count": 32,
   "metadata": {},
   "outputs": [
    {
     "data": {
      "text/plain": [
       "[sin(x)**6*cosh(y)**6 - 15*sin(x)**4*cos(x)**2*sinh(y)**2*cosh(y)**4 + 15*sin(x)**2*cos(x)**4*sinh(y)**4*cosh(y)**2 + 0.0732*sin(x)**2*cosh(y)**2 - cos(x)**6*sinh(y)**6 - 0.0732*cos(x)**2*sinh(y)**2 - 0.0732,\n",
       " 6*sin(x)**5*cos(x)*sinh(y)*cosh(y)**5 - 20*sin(x)**3*cos(x)**3*sinh(y)**3*cosh(y)**3 + 6*sin(x)*cos(x)**5*sinh(y)**5*cosh(y) + 0.1464*sin(x)*cos(x)*sinh(y)*cosh(y)]"
      ]
     },
     "execution_count": 32,
     "metadata": {},
     "output_type": "execute_result"
    }
   ],
   "source": [
    "f0,f1 = f(x,y)\n",
    "F = [f0,f1]\n",
    "F"
   ]
  },
  {
   "cell_type": "code",
   "execution_count": 33,
   "metadata": {},
   "outputs": [
    {
     "data": {
      "text/latex": [
       "$\\displaystyle \\left[\\begin{matrix}30 \\sin^{5}{\\left(x \\right)} \\cos{\\left(x \\right)} \\sinh^{2}{\\left(y \\right)} \\cosh^{4}{\\left(y \\right)} + 6 \\sin^{5}{\\left(x \\right)} \\cos{\\left(x \\right)} \\cosh^{6}{\\left(y \\right)} - 60 \\sin^{3}{\\left(x \\right)} \\cos^{3}{\\left(x \\right)} \\sinh^{4}{\\left(y \\right)} \\cosh^{2}{\\left(y \\right)} - 60 \\sin^{3}{\\left(x \\right)} \\cos^{3}{\\left(x \\right)} \\sinh^{2}{\\left(y \\right)} \\cosh^{4}{\\left(y \\right)} + 6 \\sin{\\left(x \\right)} \\cos^{5}{\\left(x \\right)} \\sinh^{6}{\\left(y \\right)} + 30 \\sin{\\left(x \\right)} \\cos^{5}{\\left(x \\right)} \\sinh^{4}{\\left(y \\right)} \\cosh^{2}{\\left(y \\right)} + 0.1464 \\sin{\\left(x \\right)} \\cos{\\left(x \\right)} \\sinh^{2}{\\left(y \\right)} + 0.1464 \\sin{\\left(x \\right)} \\cos{\\left(x \\right)} \\cosh^{2}{\\left(y \\right)} & 6 \\sin^{6}{\\left(x \\right)} \\sinh{\\left(y \\right)} \\cosh^{5}{\\left(y \\right)} - 60 \\sin^{4}{\\left(x \\right)} \\cos^{2}{\\left(x \\right)} \\sinh^{3}{\\left(y \\right)} \\cosh^{3}{\\left(y \\right)} - 30 \\sin^{4}{\\left(x \\right)} \\cos^{2}{\\left(x \\right)} \\sinh{\\left(y \\right)} \\cosh^{5}{\\left(y \\right)} + 30 \\sin^{2}{\\left(x \\right)} \\cos^{4}{\\left(x \\right)} \\sinh^{5}{\\left(y \\right)} \\cosh{\\left(y \\right)} + 60 \\sin^{2}{\\left(x \\right)} \\cos^{4}{\\left(x \\right)} \\sinh^{3}{\\left(y \\right)} \\cosh^{3}{\\left(y \\right)} + 0.1464 \\sin^{2}{\\left(x \\right)} \\sinh{\\left(y \\right)} \\cosh{\\left(y \\right)} - 6 \\cos^{6}{\\left(x \\right)} \\sinh^{5}{\\left(y \\right)} \\cosh{\\left(y \\right)} - 0.1464 \\cos^{2}{\\left(x \\right)} \\sinh{\\left(y \\right)} \\cosh{\\left(y \\right)}\\\\- 6 \\sin^{6}{\\left(x \\right)} \\sinh{\\left(y \\right)} \\cosh^{5}{\\left(y \\right)} + 60 \\sin^{4}{\\left(x \\right)} \\cos^{2}{\\left(x \\right)} \\sinh^{3}{\\left(y \\right)} \\cosh^{3}{\\left(y \\right)} + 30 \\sin^{4}{\\left(x \\right)} \\cos^{2}{\\left(x \\right)} \\sinh{\\left(y \\right)} \\cosh^{5}{\\left(y \\right)} - 30 \\sin^{2}{\\left(x \\right)} \\cos^{4}{\\left(x \\right)} \\sinh^{5}{\\left(y \\right)} \\cosh{\\left(y \\right)} - 60 \\sin^{2}{\\left(x \\right)} \\cos^{4}{\\left(x \\right)} \\sinh^{3}{\\left(y \\right)} \\cosh^{3}{\\left(y \\right)} - 0.1464 \\sin^{2}{\\left(x \\right)} \\sinh{\\left(y \\right)} \\cosh{\\left(y \\right)} + 6 \\cos^{6}{\\left(x \\right)} \\sinh^{5}{\\left(y \\right)} \\cosh{\\left(y \\right)} + 0.1464 \\cos^{2}{\\left(x \\right)} \\sinh{\\left(y \\right)} \\cosh{\\left(y \\right)} & 30 \\sin^{5}{\\left(x \\right)} \\cos{\\left(x \\right)} \\sinh^{2}{\\left(y \\right)} \\cosh^{4}{\\left(y \\right)} + 6 \\sin^{5}{\\left(x \\right)} \\cos{\\left(x \\right)} \\cosh^{6}{\\left(y \\right)} - 60 \\sin^{3}{\\left(x \\right)} \\cos^{3}{\\left(x \\right)} \\sinh^{4}{\\left(y \\right)} \\cosh^{2}{\\left(y \\right)} - 60 \\sin^{3}{\\left(x \\right)} \\cos^{3}{\\left(x \\right)} \\sinh^{2}{\\left(y \\right)} \\cosh^{4}{\\left(y \\right)} + 6 \\sin{\\left(x \\right)} \\cos^{5}{\\left(x \\right)} \\sinh^{6}{\\left(y \\right)} + 30 \\sin{\\left(x \\right)} \\cos^{5}{\\left(x \\right)} \\sinh^{4}{\\left(y \\right)} \\cosh^{2}{\\left(y \\right)} + 0.1464 \\sin{\\left(x \\right)} \\cos{\\left(x \\right)} \\sinh^{2}{\\left(y \\right)} + 0.1464 \\sin{\\left(x \\right)} \\cos{\\left(x \\right)} \\cosh^{2}{\\left(y \\right)}\\end{matrix}\\right]$"
      ],
      "text/plain": [
       "Matrix([\n",
       "[     30*sin(x)**5*cos(x)*sinh(y)**2*cosh(y)**4 + 6*sin(x)**5*cos(x)*cosh(y)**6 - 60*sin(x)**3*cos(x)**3*sinh(y)**4*cosh(y)**2 - 60*sin(x)**3*cos(x)**3*sinh(y)**2*cosh(y)**4 + 6*sin(x)*cos(x)**5*sinh(y)**6 + 30*sin(x)*cos(x)**5*sinh(y)**4*cosh(y)**2 + 0.1464*sin(x)*cos(x)*sinh(y)**2 + 0.1464*sin(x)*cos(x)*cosh(y)**2, 6*sin(x)**6*sinh(y)*cosh(y)**5 - 60*sin(x)**4*cos(x)**2*sinh(y)**3*cosh(y)**3 - 30*sin(x)**4*cos(x)**2*sinh(y)*cosh(y)**5 + 30*sin(x)**2*cos(x)**4*sinh(y)**5*cosh(y) + 60*sin(x)**2*cos(x)**4*sinh(y)**3*cosh(y)**3 + 0.1464*sin(x)**2*sinh(y)*cosh(y) - 6*cos(x)**6*sinh(y)**5*cosh(y) - 0.1464*cos(x)**2*sinh(y)*cosh(y)],\n",
       "[-6*sin(x)**6*sinh(y)*cosh(y)**5 + 60*sin(x)**4*cos(x)**2*sinh(y)**3*cosh(y)**3 + 30*sin(x)**4*cos(x)**2*sinh(y)*cosh(y)**5 - 30*sin(x)**2*cos(x)**4*sinh(y)**5*cosh(y) - 60*sin(x)**2*cos(x)**4*sinh(y)**3*cosh(y)**3 - 0.1464*sin(x)**2*sinh(y)*cosh(y) + 6*cos(x)**6*sinh(y)**5*cosh(y) + 0.1464*cos(x)**2*sinh(y)*cosh(y),     30*sin(x)**5*cos(x)*sinh(y)**2*cosh(y)**4 + 6*sin(x)**5*cos(x)*cosh(y)**6 - 60*sin(x)**3*cos(x)**3*sinh(y)**4*cosh(y)**2 - 60*sin(x)**3*cos(x)**3*sinh(y)**2*cosh(y)**4 + 6*sin(x)*cos(x)**5*sinh(y)**6 + 30*sin(x)*cos(x)**5*sinh(y)**4*cosh(y)**2 + 0.1464*sin(x)*cos(x)*sinh(y)**2 + 0.1464*sin(x)*cos(x)*cosh(y)**2]])"
      ]
     },
     "execution_count": 33,
     "metadata": {},
     "output_type": "execute_result"
    }
   ],
   "source": [
    "J = sym.zeros(2,2)\n",
    "\n",
    "for i in range(2):\n",
    "    for j in range(2):\n",
    "        if j==0:\n",
    "            J[i,j] = sym.diff(F[i],x,1)\n",
    "        else:\n",
    "            J[i,j] = sym.diff(F[i],y,1)\n",
    "\n",
    "J"
   ]
  },
  {
   "cell_type": "code",
   "execution_count": 34,
   "metadata": {},
   "outputs": [
    {
     "data": {
      "text/latex": [
       "$\\displaystyle \\left[\\begin{matrix}\\frac{\\frac{\\left(- 6 \\sin^{6}{\\left(x \\right)} \\sinh{\\left(y \\right)} \\cosh^{5}{\\left(y \\right)} + 60 \\sin^{4}{\\left(x \\right)} \\cos^{2}{\\left(x \\right)} \\sinh^{3}{\\left(y \\right)} \\cosh^{3}{\\left(y \\right)} + 30 \\sin^{4}{\\left(x \\right)} \\cos^{2}{\\left(x \\right)} \\sinh{\\left(y \\right)} \\cosh^{5}{\\left(y \\right)} - 30 \\sin^{2}{\\left(x \\right)} \\cos^{4}{\\left(x \\right)} \\sinh^{5}{\\left(y \\right)} \\cosh{\\left(y \\right)} - 60 \\sin^{2}{\\left(x \\right)} \\cos^{4}{\\left(x \\right)} \\sinh^{3}{\\left(y \\right)} \\cosh^{3}{\\left(y \\right)} - 0.1464 \\sin^{2}{\\left(x \\right)} \\sinh{\\left(y \\right)} \\cosh{\\left(y \\right)} + 6 \\cos^{6}{\\left(x \\right)} \\sinh^{5}{\\left(y \\right)} \\cosh{\\left(y \\right)} + 0.1464 \\cos^{2}{\\left(x \\right)} \\sinh{\\left(y \\right)} \\cosh{\\left(y \\right)}\\right) \\left(6 \\sin^{6}{\\left(x \\right)} \\sinh{\\left(y \\right)} \\cosh^{5}{\\left(y \\right)} - 60 \\sin^{4}{\\left(x \\right)} \\cos^{2}{\\left(x \\right)} \\sinh^{3}{\\left(y \\right)} \\cosh^{3}{\\left(y \\right)} - 30 \\sin^{4}{\\left(x \\right)} \\cos^{2}{\\left(x \\right)} \\sinh{\\left(y \\right)} \\cosh^{5}{\\left(y \\right)} + 30 \\sin^{2}{\\left(x \\right)} \\cos^{4}{\\left(x \\right)} \\sinh^{5}{\\left(y \\right)} \\cosh{\\left(y \\right)} + 60 \\sin^{2}{\\left(x \\right)} \\cos^{4}{\\left(x \\right)} \\sinh^{3}{\\left(y \\right)} \\cosh^{3}{\\left(y \\right)} + 0.1464 \\sin^{2}{\\left(x \\right)} \\sinh{\\left(y \\right)} \\cosh{\\left(y \\right)} - 6 \\cos^{6}{\\left(x \\right)} \\sinh^{5}{\\left(y \\right)} \\cosh{\\left(y \\right)} - 0.1464 \\cos^{2}{\\left(x \\right)} \\sinh{\\left(y \\right)} \\cosh{\\left(y \\right)}\\right)}{\\left(30 \\sin^{5}{\\left(x \\right)} \\cos{\\left(x \\right)} \\sinh^{2}{\\left(y \\right)} \\cosh^{4}{\\left(y \\right)} + 6 \\sin^{5}{\\left(x \\right)} \\cos{\\left(x \\right)} \\cosh^{6}{\\left(y \\right)} - 60 \\sin^{3}{\\left(x \\right)} \\cos^{3}{\\left(x \\right)} \\sinh^{4}{\\left(y \\right)} \\cosh^{2}{\\left(y \\right)} - 60 \\sin^{3}{\\left(x \\right)} \\cos^{3}{\\left(x \\right)} \\sinh^{2}{\\left(y \\right)} \\cosh^{4}{\\left(y \\right)} + 6 \\sin{\\left(x \\right)} \\cos^{5}{\\left(x \\right)} \\sinh^{6}{\\left(y \\right)} + 30 \\sin{\\left(x \\right)} \\cos^{5}{\\left(x \\right)} \\sinh^{4}{\\left(y \\right)} \\cosh^{2}{\\left(y \\right)} + 0.1464 \\sin{\\left(x \\right)} \\cos{\\left(x \\right)} \\sinh^{2}{\\left(y \\right)} + 0.1464 \\sin{\\left(x \\right)} \\cos{\\left(x \\right)} \\cosh^{2}{\\left(y \\right)}\\right) \\left(- \\frac{\\left(- 6 \\sin^{6}{\\left(x \\right)} \\sinh{\\left(y \\right)} \\cosh^{5}{\\left(y \\right)} + 60 \\sin^{4}{\\left(x \\right)} \\cos^{2}{\\left(x \\right)} \\sinh^{3}{\\left(y \\right)} \\cosh^{3}{\\left(y \\right)} + 30 \\sin^{4}{\\left(x \\right)} \\cos^{2}{\\left(x \\right)} \\sinh{\\left(y \\right)} \\cosh^{5}{\\left(y \\right)} - 30 \\sin^{2}{\\left(x \\right)} \\cos^{4}{\\left(x \\right)} \\sinh^{5}{\\left(y \\right)} \\cosh{\\left(y \\right)} - 60 \\sin^{2}{\\left(x \\right)} \\cos^{4}{\\left(x \\right)} \\sinh^{3}{\\left(y \\right)} \\cosh^{3}{\\left(y \\right)} - 0.1464 \\sin^{2}{\\left(x \\right)} \\sinh{\\left(y \\right)} \\cosh{\\left(y \\right)} + 6 \\cos^{6}{\\left(x \\right)} \\sinh^{5}{\\left(y \\right)} \\cosh{\\left(y \\right)} + 0.1464 \\cos^{2}{\\left(x \\right)} \\sinh{\\left(y \\right)} \\cosh{\\left(y \\right)}\\right) \\left(6 \\sin^{6}{\\left(x \\right)} \\sinh{\\left(y \\right)} \\cosh^{5}{\\left(y \\right)} - 60 \\sin^{4}{\\left(x \\right)} \\cos^{2}{\\left(x \\right)} \\sinh^{3}{\\left(y \\right)} \\cosh^{3}{\\left(y \\right)} - 30 \\sin^{4}{\\left(x \\right)} \\cos^{2}{\\left(x \\right)} \\sinh{\\left(y \\right)} \\cosh^{5}{\\left(y \\right)} + 30 \\sin^{2}{\\left(x \\right)} \\cos^{4}{\\left(x \\right)} \\sinh^{5}{\\left(y \\right)} \\cosh{\\left(y \\right)} + 60 \\sin^{2}{\\left(x \\right)} \\cos^{4}{\\left(x \\right)} \\sinh^{3}{\\left(y \\right)} \\cosh^{3}{\\left(y \\right)} + 0.1464 \\sin^{2}{\\left(x \\right)} \\sinh{\\left(y \\right)} \\cosh{\\left(y \\right)} - 6 \\cos^{6}{\\left(x \\right)} \\sinh^{5}{\\left(y \\right)} \\cosh{\\left(y \\right)} - 0.1464 \\cos^{2}{\\left(x \\right)} \\sinh{\\left(y \\right)} \\cosh{\\left(y \\right)}\\right)}{30 \\sin^{5}{\\left(x \\right)} \\cos{\\left(x \\right)} \\sinh^{2}{\\left(y \\right)} \\cosh^{4}{\\left(y \\right)} + 6 \\sin^{5}{\\left(x \\right)} \\cos{\\left(x \\right)} \\cosh^{6}{\\left(y \\right)} - 60 \\sin^{3}{\\left(x \\right)} \\cos^{3}{\\left(x \\right)} \\sinh^{4}{\\left(y \\right)} \\cosh^{2}{\\left(y \\right)} - 60 \\sin^{3}{\\left(x \\right)} \\cos^{3}{\\left(x \\right)} \\sinh^{2}{\\left(y \\right)} \\cosh^{4}{\\left(y \\right)} + 6 \\sin{\\left(x \\right)} \\cos^{5}{\\left(x \\right)} \\sinh^{6}{\\left(y \\right)} + 30 \\sin{\\left(x \\right)} \\cos^{5}{\\left(x \\right)} \\sinh^{4}{\\left(y \\right)} \\cosh^{2}{\\left(y \\right)} + 0.1464 \\sin{\\left(x \\right)} \\cos{\\left(x \\right)} \\sinh^{2}{\\left(y \\right)} + 0.1464 \\sin{\\left(x \\right)} \\cos{\\left(x \\right)} \\cosh^{2}{\\left(y \\right)}} + 30 \\sin^{5}{\\left(x \\right)} \\cos{\\left(x \\right)} \\sinh^{2}{\\left(y \\right)} \\cosh^{4}{\\left(y \\right)} + 6 \\sin^{5}{\\left(x \\right)} \\cos{\\left(x \\right)} \\cosh^{6}{\\left(y \\right)} - 60 \\sin^{3}{\\left(x \\right)} \\cos^{3}{\\left(x \\right)} \\sinh^{4}{\\left(y \\right)} \\cosh^{2}{\\left(y \\right)} - 60 \\sin^{3}{\\left(x \\right)} \\cos^{3}{\\left(x \\right)} \\sinh^{2}{\\left(y \\right)} \\cosh^{4}{\\left(y \\right)} + 6 \\sin{\\left(x \\right)} \\cos^{5}{\\left(x \\right)} \\sinh^{6}{\\left(y \\right)} + 30 \\sin{\\left(x \\right)} \\cos^{5}{\\left(x \\right)} \\sinh^{4}{\\left(y \\right)} \\cosh^{2}{\\left(y \\right)} + 0.1464 \\sin{\\left(x \\right)} \\cos{\\left(x \\right)} \\sinh^{2}{\\left(y \\right)} + 0.1464 \\sin{\\left(x \\right)} \\cos{\\left(x \\right)} \\cosh^{2}{\\left(y \\right)}\\right)} + 1}{30 \\sin^{5}{\\left(x \\right)} \\cos{\\left(x \\right)} \\sinh^{2}{\\left(y \\right)} \\cosh^{4}{\\left(y \\right)} + 6 \\sin^{5}{\\left(x \\right)} \\cos{\\left(x \\right)} \\cosh^{6}{\\left(y \\right)} - 60 \\sin^{3}{\\left(x \\right)} \\cos^{3}{\\left(x \\right)} \\sinh^{4}{\\left(y \\right)} \\cosh^{2}{\\left(y \\right)} - 60 \\sin^{3}{\\left(x \\right)} \\cos^{3}{\\left(x \\right)} \\sinh^{2}{\\left(y \\right)} \\cosh^{4}{\\left(y \\right)} + 6 \\sin{\\left(x \\right)} \\cos^{5}{\\left(x \\right)} \\sinh^{6}{\\left(y \\right)} + 30 \\sin{\\left(x \\right)} \\cos^{5}{\\left(x \\right)} \\sinh^{4}{\\left(y \\right)} \\cosh^{2}{\\left(y \\right)} + 0.1464 \\sin{\\left(x \\right)} \\cos{\\left(x \\right)} \\sinh^{2}{\\left(y \\right)} + 0.1464 \\sin{\\left(x \\right)} \\cos{\\left(x \\right)} \\cosh^{2}{\\left(y \\right)}} & - \\frac{6 \\sin^{6}{\\left(x \\right)} \\sinh{\\left(y \\right)} \\cosh^{5}{\\left(y \\right)} - 60 \\sin^{4}{\\left(x \\right)} \\cos^{2}{\\left(x \\right)} \\sinh^{3}{\\left(y \\right)} \\cosh^{3}{\\left(y \\right)} - 30 \\sin^{4}{\\left(x \\right)} \\cos^{2}{\\left(x \\right)} \\sinh{\\left(y \\right)} \\cosh^{5}{\\left(y \\right)} + 30 \\sin^{2}{\\left(x \\right)} \\cos^{4}{\\left(x \\right)} \\sinh^{5}{\\left(y \\right)} \\cosh{\\left(y \\right)} + 60 \\sin^{2}{\\left(x \\right)} \\cos^{4}{\\left(x \\right)} \\sinh^{3}{\\left(y \\right)} \\cosh^{3}{\\left(y \\right)} + 0.1464 \\sin^{2}{\\left(x \\right)} \\sinh{\\left(y \\right)} \\cosh{\\left(y \\right)} - 6 \\cos^{6}{\\left(x \\right)} \\sinh^{5}{\\left(y \\right)} \\cosh{\\left(y \\right)} - 0.1464 \\cos^{2}{\\left(x \\right)} \\sinh{\\left(y \\right)} \\cosh{\\left(y \\right)}}{\\left(30 \\sin^{5}{\\left(x \\right)} \\cos{\\left(x \\right)} \\sinh^{2}{\\left(y \\right)} \\cosh^{4}{\\left(y \\right)} + 6 \\sin^{5}{\\left(x \\right)} \\cos{\\left(x \\right)} \\cosh^{6}{\\left(y \\right)} - 60 \\sin^{3}{\\left(x \\right)} \\cos^{3}{\\left(x \\right)} \\sinh^{4}{\\left(y \\right)} \\cosh^{2}{\\left(y \\right)} - 60 \\sin^{3}{\\left(x \\right)} \\cos^{3}{\\left(x \\right)} \\sinh^{2}{\\left(y \\right)} \\cosh^{4}{\\left(y \\right)} + 6 \\sin{\\left(x \\right)} \\cos^{5}{\\left(x \\right)} \\sinh^{6}{\\left(y \\right)} + 30 \\sin{\\left(x \\right)} \\cos^{5}{\\left(x \\right)} \\sinh^{4}{\\left(y \\right)} \\cosh^{2}{\\left(y \\right)} + 0.1464 \\sin{\\left(x \\right)} \\cos{\\left(x \\right)} \\sinh^{2}{\\left(y \\right)} + 0.1464 \\sin{\\left(x \\right)} \\cos{\\left(x \\right)} \\cosh^{2}{\\left(y \\right)}\\right) \\left(- \\frac{\\left(- 6 \\sin^{6}{\\left(x \\right)} \\sinh{\\left(y \\right)} \\cosh^{5}{\\left(y \\right)} + 60 \\sin^{4}{\\left(x \\right)} \\cos^{2}{\\left(x \\right)} \\sinh^{3}{\\left(y \\right)} \\cosh^{3}{\\left(y \\right)} + 30 \\sin^{4}{\\left(x \\right)} \\cos^{2}{\\left(x \\right)} \\sinh{\\left(y \\right)} \\cosh^{5}{\\left(y \\right)} - 30 \\sin^{2}{\\left(x \\right)} \\cos^{4}{\\left(x \\right)} \\sinh^{5}{\\left(y \\right)} \\cosh{\\left(y \\right)} - 60 \\sin^{2}{\\left(x \\right)} \\cos^{4}{\\left(x \\right)} \\sinh^{3}{\\left(y \\right)} \\cosh^{3}{\\left(y \\right)} - 0.1464 \\sin^{2}{\\left(x \\right)} \\sinh{\\left(y \\right)} \\cosh{\\left(y \\right)} + 6 \\cos^{6}{\\left(x \\right)} \\sinh^{5}{\\left(y \\right)} \\cosh{\\left(y \\right)} + 0.1464 \\cos^{2}{\\left(x \\right)} \\sinh{\\left(y \\right)} \\cosh{\\left(y \\right)}\\right) \\left(6 \\sin^{6}{\\left(x \\right)} \\sinh{\\left(y \\right)} \\cosh^{5}{\\left(y \\right)} - 60 \\sin^{4}{\\left(x \\right)} \\cos^{2}{\\left(x \\right)} \\sinh^{3}{\\left(y \\right)} \\cosh^{3}{\\left(y \\right)} - 30 \\sin^{4}{\\left(x \\right)} \\cos^{2}{\\left(x \\right)} \\sinh{\\left(y \\right)} \\cosh^{5}{\\left(y \\right)} + 30 \\sin^{2}{\\left(x \\right)} \\cos^{4}{\\left(x \\right)} \\sinh^{5}{\\left(y \\right)} \\cosh{\\left(y \\right)} + 60 \\sin^{2}{\\left(x \\right)} \\cos^{4}{\\left(x \\right)} \\sinh^{3}{\\left(y \\right)} \\cosh^{3}{\\left(y \\right)} + 0.1464 \\sin^{2}{\\left(x \\right)} \\sinh{\\left(y \\right)} \\cosh{\\left(y \\right)} - 6 \\cos^{6}{\\left(x \\right)} \\sinh^{5}{\\left(y \\right)} \\cosh{\\left(y \\right)} - 0.1464 \\cos^{2}{\\left(x \\right)} \\sinh{\\left(y \\right)} \\cosh{\\left(y \\right)}\\right)}{30 \\sin^{5}{\\left(x \\right)} \\cos{\\left(x \\right)} \\sinh^{2}{\\left(y \\right)} \\cosh^{4}{\\left(y \\right)} + 6 \\sin^{5}{\\left(x \\right)} \\cos{\\left(x \\right)} \\cosh^{6}{\\left(y \\right)} - 60 \\sin^{3}{\\left(x \\right)} \\cos^{3}{\\left(x \\right)} \\sinh^{4}{\\left(y \\right)} \\cosh^{2}{\\left(y \\right)} - 60 \\sin^{3}{\\left(x \\right)} \\cos^{3}{\\left(x \\right)} \\sinh^{2}{\\left(y \\right)} \\cosh^{4}{\\left(y \\right)} + 6 \\sin{\\left(x \\right)} \\cos^{5}{\\left(x \\right)} \\sinh^{6}{\\left(y \\right)} + 30 \\sin{\\left(x \\right)} \\cos^{5}{\\left(x \\right)} \\sinh^{4}{\\left(y \\right)} \\cosh^{2}{\\left(y \\right)} + 0.1464 \\sin{\\left(x \\right)} \\cos{\\left(x \\right)} \\sinh^{2}{\\left(y \\right)} + 0.1464 \\sin{\\left(x \\right)} \\cos{\\left(x \\right)} \\cosh^{2}{\\left(y \\right)}} + 30 \\sin^{5}{\\left(x \\right)} \\cos{\\left(x \\right)} \\sinh^{2}{\\left(y \\right)} \\cosh^{4}{\\left(y \\right)} + 6 \\sin^{5}{\\left(x \\right)} \\cos{\\left(x \\right)} \\cosh^{6}{\\left(y \\right)} - 60 \\sin^{3}{\\left(x \\right)} \\cos^{3}{\\left(x \\right)} \\sinh^{4}{\\left(y \\right)} \\cosh^{2}{\\left(y \\right)} - 60 \\sin^{3}{\\left(x \\right)} \\cos^{3}{\\left(x \\right)} \\sinh^{2}{\\left(y \\right)} \\cosh^{4}{\\left(y \\right)} + 6 \\sin{\\left(x \\right)} \\cos^{5}{\\left(x \\right)} \\sinh^{6}{\\left(y \\right)} + 30 \\sin{\\left(x \\right)} \\cos^{5}{\\left(x \\right)} \\sinh^{4}{\\left(y \\right)} \\cosh^{2}{\\left(y \\right)} + 0.1464 \\sin{\\left(x \\right)} \\cos{\\left(x \\right)} \\sinh^{2}{\\left(y \\right)} + 0.1464 \\sin{\\left(x \\right)} \\cos{\\left(x \\right)} \\cosh^{2}{\\left(y \\right)}\\right)}\\\\- \\frac{- 6 \\sin^{6}{\\left(x \\right)} \\sinh{\\left(y \\right)} \\cosh^{5}{\\left(y \\right)} + 60 \\sin^{4}{\\left(x \\right)} \\cos^{2}{\\left(x \\right)} \\sinh^{3}{\\left(y \\right)} \\cosh^{3}{\\left(y \\right)} + 30 \\sin^{4}{\\left(x \\right)} \\cos^{2}{\\left(x \\right)} \\sinh{\\left(y \\right)} \\cosh^{5}{\\left(y \\right)} - 30 \\sin^{2}{\\left(x \\right)} \\cos^{4}{\\left(x \\right)} \\sinh^{5}{\\left(y \\right)} \\cosh{\\left(y \\right)} - 60 \\sin^{2}{\\left(x \\right)} \\cos^{4}{\\left(x \\right)} \\sinh^{3}{\\left(y \\right)} \\cosh^{3}{\\left(y \\right)} - 0.1464 \\sin^{2}{\\left(x \\right)} \\sinh{\\left(y \\right)} \\cosh{\\left(y \\right)} + 6 \\cos^{6}{\\left(x \\right)} \\sinh^{5}{\\left(y \\right)} \\cosh{\\left(y \\right)} + 0.1464 \\cos^{2}{\\left(x \\right)} \\sinh{\\left(y \\right)} \\cosh{\\left(y \\right)}}{\\left(30 \\sin^{5}{\\left(x \\right)} \\cos{\\left(x \\right)} \\sinh^{2}{\\left(y \\right)} \\cosh^{4}{\\left(y \\right)} + 6 \\sin^{5}{\\left(x \\right)} \\cos{\\left(x \\right)} \\cosh^{6}{\\left(y \\right)} - 60 \\sin^{3}{\\left(x \\right)} \\cos^{3}{\\left(x \\right)} \\sinh^{4}{\\left(y \\right)} \\cosh^{2}{\\left(y \\right)} - 60 \\sin^{3}{\\left(x \\right)} \\cos^{3}{\\left(x \\right)} \\sinh^{2}{\\left(y \\right)} \\cosh^{4}{\\left(y \\right)} + 6 \\sin{\\left(x \\right)} \\cos^{5}{\\left(x \\right)} \\sinh^{6}{\\left(y \\right)} + 30 \\sin{\\left(x \\right)} \\cos^{5}{\\left(x \\right)} \\sinh^{4}{\\left(y \\right)} \\cosh^{2}{\\left(y \\right)} + 0.1464 \\sin{\\left(x \\right)} \\cos{\\left(x \\right)} \\sinh^{2}{\\left(y \\right)} + 0.1464 \\sin{\\left(x \\right)} \\cos{\\left(x \\right)} \\cosh^{2}{\\left(y \\right)}\\right) \\left(- \\frac{\\left(- 6 \\sin^{6}{\\left(x \\right)} \\sinh{\\left(y \\right)} \\cosh^{5}{\\left(y \\right)} + 60 \\sin^{4}{\\left(x \\right)} \\cos^{2}{\\left(x \\right)} \\sinh^{3}{\\left(y \\right)} \\cosh^{3}{\\left(y \\right)} + 30 \\sin^{4}{\\left(x \\right)} \\cos^{2}{\\left(x \\right)} \\sinh{\\left(y \\right)} \\cosh^{5}{\\left(y \\right)} - 30 \\sin^{2}{\\left(x \\right)} \\cos^{4}{\\left(x \\right)} \\sinh^{5}{\\left(y \\right)} \\cosh{\\left(y \\right)} - 60 \\sin^{2}{\\left(x \\right)} \\cos^{4}{\\left(x \\right)} \\sinh^{3}{\\left(y \\right)} \\cosh^{3}{\\left(y \\right)} - 0.1464 \\sin^{2}{\\left(x \\right)} \\sinh{\\left(y \\right)} \\cosh{\\left(y \\right)} + 6 \\cos^{6}{\\left(x \\right)} \\sinh^{5}{\\left(y \\right)} \\cosh{\\left(y \\right)} + 0.1464 \\cos^{2}{\\left(x \\right)} \\sinh{\\left(y \\right)} \\cosh{\\left(y \\right)}\\right) \\left(6 \\sin^{6}{\\left(x \\right)} \\sinh{\\left(y \\right)} \\cosh^{5}{\\left(y \\right)} - 60 \\sin^{4}{\\left(x \\right)} \\cos^{2}{\\left(x \\right)} \\sinh^{3}{\\left(y \\right)} \\cosh^{3}{\\left(y \\right)} - 30 \\sin^{4}{\\left(x \\right)} \\cos^{2}{\\left(x \\right)} \\sinh{\\left(y \\right)} \\cosh^{5}{\\left(y \\right)} + 30 \\sin^{2}{\\left(x \\right)} \\cos^{4}{\\left(x \\right)} \\sinh^{5}{\\left(y \\right)} \\cosh{\\left(y \\right)} + 60 \\sin^{2}{\\left(x \\right)} \\cos^{4}{\\left(x \\right)} \\sinh^{3}{\\left(y \\right)} \\cosh^{3}{\\left(y \\right)} + 0.1464 \\sin^{2}{\\left(x \\right)} \\sinh{\\left(y \\right)} \\cosh{\\left(y \\right)} - 6 \\cos^{6}{\\left(x \\right)} \\sinh^{5}{\\left(y \\right)} \\cosh{\\left(y \\right)} - 0.1464 \\cos^{2}{\\left(x \\right)} \\sinh{\\left(y \\right)} \\cosh{\\left(y \\right)}\\right)}{30 \\sin^{5}{\\left(x \\right)} \\cos{\\left(x \\right)} \\sinh^{2}{\\left(y \\right)} \\cosh^{4}{\\left(y \\right)} + 6 \\sin^{5}{\\left(x \\right)} \\cos{\\left(x \\right)} \\cosh^{6}{\\left(y \\right)} - 60 \\sin^{3}{\\left(x \\right)} \\cos^{3}{\\left(x \\right)} \\sinh^{4}{\\left(y \\right)} \\cosh^{2}{\\left(y \\right)} - 60 \\sin^{3}{\\left(x \\right)} \\cos^{3}{\\left(x \\right)} \\sinh^{2}{\\left(y \\right)} \\cosh^{4}{\\left(y \\right)} + 6 \\sin{\\left(x \\right)} \\cos^{5}{\\left(x \\right)} \\sinh^{6}{\\left(y \\right)} + 30 \\sin{\\left(x \\right)} \\cos^{5}{\\left(x \\right)} \\sinh^{4}{\\left(y \\right)} \\cosh^{2}{\\left(y \\right)} + 0.1464 \\sin{\\left(x \\right)} \\cos{\\left(x \\right)} \\sinh^{2}{\\left(y \\right)} + 0.1464 \\sin{\\left(x \\right)} \\cos{\\left(x \\right)} \\cosh^{2}{\\left(y \\right)}} + 30 \\sin^{5}{\\left(x \\right)} \\cos{\\left(x \\right)} \\sinh^{2}{\\left(y \\right)} \\cosh^{4}{\\left(y \\right)} + 6 \\sin^{5}{\\left(x \\right)} \\cos{\\left(x \\right)} \\cosh^{6}{\\left(y \\right)} - 60 \\sin^{3}{\\left(x \\right)} \\cos^{3}{\\left(x \\right)} \\sinh^{4}{\\left(y \\right)} \\cosh^{2}{\\left(y \\right)} - 60 \\sin^{3}{\\left(x \\right)} \\cos^{3}{\\left(x \\right)} \\sinh^{2}{\\left(y \\right)} \\cosh^{4}{\\left(y \\right)} + 6 \\sin{\\left(x \\right)} \\cos^{5}{\\left(x \\right)} \\sinh^{6}{\\left(y \\right)} + 30 \\sin{\\left(x \\right)} \\cos^{5}{\\left(x \\right)} \\sinh^{4}{\\left(y \\right)} \\cosh^{2}{\\left(y \\right)} + 0.1464 \\sin{\\left(x \\right)} \\cos{\\left(x \\right)} \\sinh^{2}{\\left(y \\right)} + 0.1464 \\sin{\\left(x \\right)} \\cos{\\left(x \\right)} \\cosh^{2}{\\left(y \\right)}\\right)} & \\frac{1}{- \\frac{\\left(- 6 \\sin^{6}{\\left(x \\right)} \\sinh{\\left(y \\right)} \\cosh^{5}{\\left(y \\right)} + 60 \\sin^{4}{\\left(x \\right)} \\cos^{2}{\\left(x \\right)} \\sinh^{3}{\\left(y \\right)} \\cosh^{3}{\\left(y \\right)} + 30 \\sin^{4}{\\left(x \\right)} \\cos^{2}{\\left(x \\right)} \\sinh{\\left(y \\right)} \\cosh^{5}{\\left(y \\right)} - 30 \\sin^{2}{\\left(x \\right)} \\cos^{4}{\\left(x \\right)} \\sinh^{5}{\\left(y \\right)} \\cosh{\\left(y \\right)} - 60 \\sin^{2}{\\left(x \\right)} \\cos^{4}{\\left(x \\right)} \\sinh^{3}{\\left(y \\right)} \\cosh^{3}{\\left(y \\right)} - 0.1464 \\sin^{2}{\\left(x \\right)} \\sinh{\\left(y \\right)} \\cosh{\\left(y \\right)} + 6 \\cos^{6}{\\left(x \\right)} \\sinh^{5}{\\left(y \\right)} \\cosh{\\left(y \\right)} + 0.1464 \\cos^{2}{\\left(x \\right)} \\sinh{\\left(y \\right)} \\cosh{\\left(y \\right)}\\right) \\left(6 \\sin^{6}{\\left(x \\right)} \\sinh{\\left(y \\right)} \\cosh^{5}{\\left(y \\right)} - 60 \\sin^{4}{\\left(x \\right)} \\cos^{2}{\\left(x \\right)} \\sinh^{3}{\\left(y \\right)} \\cosh^{3}{\\left(y \\right)} - 30 \\sin^{4}{\\left(x \\right)} \\cos^{2}{\\left(x \\right)} \\sinh{\\left(y \\right)} \\cosh^{5}{\\left(y \\right)} + 30 \\sin^{2}{\\left(x \\right)} \\cos^{4}{\\left(x \\right)} \\sinh^{5}{\\left(y \\right)} \\cosh{\\left(y \\right)} + 60 \\sin^{2}{\\left(x \\right)} \\cos^{4}{\\left(x \\right)} \\sinh^{3}{\\left(y \\right)} \\cosh^{3}{\\left(y \\right)} + 0.1464 \\sin^{2}{\\left(x \\right)} \\sinh{\\left(y \\right)} \\cosh{\\left(y \\right)} - 6 \\cos^{6}{\\left(x \\right)} \\sinh^{5}{\\left(y \\right)} \\cosh{\\left(y \\right)} - 0.1464 \\cos^{2}{\\left(x \\right)} \\sinh{\\left(y \\right)} \\cosh{\\left(y \\right)}\\right)}{30 \\sin^{5}{\\left(x \\right)} \\cos{\\left(x \\right)} \\sinh^{2}{\\left(y \\right)} \\cosh^{4}{\\left(y \\right)} + 6 \\sin^{5}{\\left(x \\right)} \\cos{\\left(x \\right)} \\cosh^{6}{\\left(y \\right)} - 60 \\sin^{3}{\\left(x \\right)} \\cos^{3}{\\left(x \\right)} \\sinh^{4}{\\left(y \\right)} \\cosh^{2}{\\left(y \\right)} - 60 \\sin^{3}{\\left(x \\right)} \\cos^{3}{\\left(x \\right)} \\sinh^{2}{\\left(y \\right)} \\cosh^{4}{\\left(y \\right)} + 6 \\sin{\\left(x \\right)} \\cos^{5}{\\left(x \\right)} \\sinh^{6}{\\left(y \\right)} + 30 \\sin{\\left(x \\right)} \\cos^{5}{\\left(x \\right)} \\sinh^{4}{\\left(y \\right)} \\cosh^{2}{\\left(y \\right)} + 0.1464 \\sin{\\left(x \\right)} \\cos{\\left(x \\right)} \\sinh^{2}{\\left(y \\right)} + 0.1464 \\sin{\\left(x \\right)} \\cos{\\left(x \\right)} \\cosh^{2}{\\left(y \\right)}} + 30 \\sin^{5}{\\left(x \\right)} \\cos{\\left(x \\right)} \\sinh^{2}{\\left(y \\right)} \\cosh^{4}{\\left(y \\right)} + 6 \\sin^{5}{\\left(x \\right)} \\cos{\\left(x \\right)} \\cosh^{6}{\\left(y \\right)} - 60 \\sin^{3}{\\left(x \\right)} \\cos^{3}{\\left(x \\right)} \\sinh^{4}{\\left(y \\right)} \\cosh^{2}{\\left(y \\right)} - 60 \\sin^{3}{\\left(x \\right)} \\cos^{3}{\\left(x \\right)} \\sinh^{2}{\\left(y \\right)} \\cosh^{4}{\\left(y \\right)} + 6 \\sin{\\left(x \\right)} \\cos^{5}{\\left(x \\right)} \\sinh^{6}{\\left(y \\right)} + 30 \\sin{\\left(x \\right)} \\cos^{5}{\\left(x \\right)} \\sinh^{4}{\\left(y \\right)} \\cosh^{2}{\\left(y \\right)} + 0.1464 \\sin{\\left(x \\right)} \\cos{\\left(x \\right)} \\sinh^{2}{\\left(y \\right)} + 0.1464 \\sin{\\left(x \\right)} \\cos{\\left(x \\right)} \\cosh^{2}{\\left(y \\right)}}\\end{matrix}\\right]$"
      ],
      "text/plain": [
       "Matrix([\n",
       "[((-6*sin(x)**6*sinh(y)*cosh(y)**5 + 60*sin(x)**4*cos(x)**2*sinh(y)**3*cosh(y)**3 + 30*sin(x)**4*cos(x)**2*sinh(y)*cosh(y)**5 - 30*sin(x)**2*cos(x)**4*sinh(y)**5*cosh(y) - 60*sin(x)**2*cos(x)**4*sinh(y)**3*cosh(y)**3 - 0.1464*sin(x)**2*sinh(y)*cosh(y) + 6*cos(x)**6*sinh(y)**5*cosh(y) + 0.1464*cos(x)**2*sinh(y)*cosh(y))*(6*sin(x)**6*sinh(y)*cosh(y)**5 - 60*sin(x)**4*cos(x)**2*sinh(y)**3*cosh(y)**3 - 30*sin(x)**4*cos(x)**2*sinh(y)*cosh(y)**5 + 30*sin(x)**2*cos(x)**4*sinh(y)**5*cosh(y) + 60*sin(x)**2*cos(x)**4*sinh(y)**3*cosh(y)**3 + 0.1464*sin(x)**2*sinh(y)*cosh(y) - 6*cos(x)**6*sinh(y)**5*cosh(y) - 0.1464*cos(x)**2*sinh(y)*cosh(y))/((30*sin(x)**5*cos(x)*sinh(y)**2*cosh(y)**4 + 6*sin(x)**5*cos(x)*cosh(y)**6 - 60*sin(x)**3*cos(x)**3*sinh(y)**4*cosh(y)**2 - 60*sin(x)**3*cos(x)**3*sinh(y)**2*cosh(y)**4 + 6*sin(x)*cos(x)**5*sinh(y)**6 + 30*sin(x)*cos(x)**5*sinh(y)**4*cosh(y)**2 + 0.1464*sin(x)*cos(x)*sinh(y)**2 + 0.1464*sin(x)*cos(x)*cosh(y)**2)*(-(-6*sin(x)**6*sinh(y)*cosh(y)**5 + 60*sin(x)**4*cos(x)**2*sinh(y)**3*cosh(y)**3 + 30*sin(x)**4*cos(x)**2*sinh(y)*cosh(y)**5 - 30*sin(x)**2*cos(x)**4*sinh(y)**5*cosh(y) - 60*sin(x)**2*cos(x)**4*sinh(y)**3*cosh(y)**3 - 0.1464*sin(x)**2*sinh(y)*cosh(y) + 6*cos(x)**6*sinh(y)**5*cosh(y) + 0.1464*cos(x)**2*sinh(y)*cosh(y))*(6*sin(x)**6*sinh(y)*cosh(y)**5 - 60*sin(x)**4*cos(x)**2*sinh(y)**3*cosh(y)**3 - 30*sin(x)**4*cos(x)**2*sinh(y)*cosh(y)**5 + 30*sin(x)**2*cos(x)**4*sinh(y)**5*cosh(y) + 60*sin(x)**2*cos(x)**4*sinh(y)**3*cosh(y)**3 + 0.1464*sin(x)**2*sinh(y)*cosh(y) - 6*cos(x)**6*sinh(y)**5*cosh(y) - 0.1464*cos(x)**2*sinh(y)*cosh(y))/(30*sin(x)**5*cos(x)*sinh(y)**2*cosh(y)**4 + 6*sin(x)**5*cos(x)*cosh(y)**6 - 60*sin(x)**3*cos(x)**3*sinh(y)**4*cosh(y)**2 - 60*sin(x)**3*cos(x)**3*sinh(y)**2*cosh(y)**4 + 6*sin(x)*cos(x)**5*sinh(y)**6 + 30*sin(x)*cos(x)**5*sinh(y)**4*cosh(y)**2 + 0.1464*sin(x)*cos(x)*sinh(y)**2 + 0.1464*sin(x)*cos(x)*cosh(y)**2) + 30*sin(x)**5*cos(x)*sinh(y)**2*cosh(y)**4 + 6*sin(x)**5*cos(x)*cosh(y)**6 - 60*sin(x)**3*cos(x)**3*sinh(y)**4*cosh(y)**2 - 60*sin(x)**3*cos(x)**3*sinh(y)**2*cosh(y)**4 + 6*sin(x)*cos(x)**5*sinh(y)**6 + 30*sin(x)*cos(x)**5*sinh(y)**4*cosh(y)**2 + 0.1464*sin(x)*cos(x)*sinh(y)**2 + 0.1464*sin(x)*cos(x)*cosh(y)**2)) + 1)/(30*sin(x)**5*cos(x)*sinh(y)**2*cosh(y)**4 + 6*sin(x)**5*cos(x)*cosh(y)**6 - 60*sin(x)**3*cos(x)**3*sinh(y)**4*cosh(y)**2 - 60*sin(x)**3*cos(x)**3*sinh(y)**2*cosh(y)**4 + 6*sin(x)*cos(x)**5*sinh(y)**6 + 30*sin(x)*cos(x)**5*sinh(y)**4*cosh(y)**2 + 0.1464*sin(x)*cos(x)*sinh(y)**2 + 0.1464*sin(x)*cos(x)*cosh(y)**2), -(6*sin(x)**6*sinh(y)*cosh(y)**5 - 60*sin(x)**4*cos(x)**2*sinh(y)**3*cosh(y)**3 - 30*sin(x)**4*cos(x)**2*sinh(y)*cosh(y)**5 + 30*sin(x)**2*cos(x)**4*sinh(y)**5*cosh(y) + 60*sin(x)**2*cos(x)**4*sinh(y)**3*cosh(y)**3 + 0.1464*sin(x)**2*sinh(y)*cosh(y) - 6*cos(x)**6*sinh(y)**5*cosh(y) - 0.1464*cos(x)**2*sinh(y)*cosh(y))/((30*sin(x)**5*cos(x)*sinh(y)**2*cosh(y)**4 + 6*sin(x)**5*cos(x)*cosh(y)**6 - 60*sin(x)**3*cos(x)**3*sinh(y)**4*cosh(y)**2 - 60*sin(x)**3*cos(x)**3*sinh(y)**2*cosh(y)**4 + 6*sin(x)*cos(x)**5*sinh(y)**6 + 30*sin(x)*cos(x)**5*sinh(y)**4*cosh(y)**2 + 0.1464*sin(x)*cos(x)*sinh(y)**2 + 0.1464*sin(x)*cos(x)*cosh(y)**2)*(-(-6*sin(x)**6*sinh(y)*cosh(y)**5 + 60*sin(x)**4*cos(x)**2*sinh(y)**3*cosh(y)**3 + 30*sin(x)**4*cos(x)**2*sinh(y)*cosh(y)**5 - 30*sin(x)**2*cos(x)**4*sinh(y)**5*cosh(y) - 60*sin(x)**2*cos(x)**4*sinh(y)**3*cosh(y)**3 - 0.1464*sin(x)**2*sinh(y)*cosh(y) + 6*cos(x)**6*sinh(y)**5*cosh(y) + 0.1464*cos(x)**2*sinh(y)*cosh(y))*(6*sin(x)**6*sinh(y)*cosh(y)**5 - 60*sin(x)**4*cos(x)**2*sinh(y)**3*cosh(y)**3 - 30*sin(x)**4*cos(x)**2*sinh(y)*cosh(y)**5 + 30*sin(x)**2*cos(x)**4*sinh(y)**5*cosh(y) + 60*sin(x)**2*cos(x)**4*sinh(y)**3*cosh(y)**3 + 0.1464*sin(x)**2*sinh(y)*cosh(y) - 6*cos(x)**6*sinh(y)**5*cosh(y) - 0.1464*cos(x)**2*sinh(y)*cosh(y))/(30*sin(x)**5*cos(x)*sinh(y)**2*cosh(y)**4 + 6*sin(x)**5*cos(x)*cosh(y)**6 - 60*sin(x)**3*cos(x)**3*sinh(y)**4*cosh(y)**2 - 60*sin(x)**3*cos(x)**3*sinh(y)**2*cosh(y)**4 + 6*sin(x)*cos(x)**5*sinh(y)**6 + 30*sin(x)*cos(x)**5*sinh(y)**4*cosh(y)**2 + 0.1464*sin(x)*cos(x)*sinh(y)**2 + 0.1464*sin(x)*cos(x)*cosh(y)**2) + 30*sin(x)**5*cos(x)*sinh(y)**2*cosh(y)**4 + 6*sin(x)**5*cos(x)*cosh(y)**6 - 60*sin(x)**3*cos(x)**3*sinh(y)**4*cosh(y)**2 - 60*sin(x)**3*cos(x)**3*sinh(y)**2*cosh(y)**4 + 6*sin(x)*cos(x)**5*sinh(y)**6 + 30*sin(x)*cos(x)**5*sinh(y)**4*cosh(y)**2 + 0.1464*sin(x)*cos(x)*sinh(y)**2 + 0.1464*sin(x)*cos(x)*cosh(y)**2))],\n",
       "[                                                                                                                                                                                                                                                                                                                                                                                                                                                                                                                                                                                                                                                             -(-6*sin(x)**6*sinh(y)*cosh(y)**5 + 60*sin(x)**4*cos(x)**2*sinh(y)**3*cosh(y)**3 + 30*sin(x)**4*cos(x)**2*sinh(y)*cosh(y)**5 - 30*sin(x)**2*cos(x)**4*sinh(y)**5*cosh(y) - 60*sin(x)**2*cos(x)**4*sinh(y)**3*cosh(y)**3 - 0.1464*sin(x)**2*sinh(y)*cosh(y) + 6*cos(x)**6*sinh(y)**5*cosh(y) + 0.1464*cos(x)**2*sinh(y)*cosh(y))/((30*sin(x)**5*cos(x)*sinh(y)**2*cosh(y)**4 + 6*sin(x)**5*cos(x)*cosh(y)**6 - 60*sin(x)**3*cos(x)**3*sinh(y)**4*cosh(y)**2 - 60*sin(x)**3*cos(x)**3*sinh(y)**2*cosh(y)**4 + 6*sin(x)*cos(x)**5*sinh(y)**6 + 30*sin(x)*cos(x)**5*sinh(y)**4*cosh(y)**2 + 0.1464*sin(x)*cos(x)*sinh(y)**2 + 0.1464*sin(x)*cos(x)*cosh(y)**2)*(-(-6*sin(x)**6*sinh(y)*cosh(y)**5 + 60*sin(x)**4*cos(x)**2*sinh(y)**3*cosh(y)**3 + 30*sin(x)**4*cos(x)**2*sinh(y)*cosh(y)**5 - 30*sin(x)**2*cos(x)**4*sinh(y)**5*cosh(y) - 60*sin(x)**2*cos(x)**4*sinh(y)**3*cosh(y)**3 - 0.1464*sin(x)**2*sinh(y)*cosh(y) + 6*cos(x)**6*sinh(y)**5*cosh(y) + 0.1464*cos(x)**2*sinh(y)*cosh(y))*(6*sin(x)**6*sinh(y)*cosh(y)**5 - 60*sin(x)**4*cos(x)**2*sinh(y)**3*cosh(y)**3 - 30*sin(x)**4*cos(x)**2*sinh(y)*cosh(y)**5 + 30*sin(x)**2*cos(x)**4*sinh(y)**5*cosh(y) + 60*sin(x)**2*cos(x)**4*sinh(y)**3*cosh(y)**3 + 0.1464*sin(x)**2*sinh(y)*cosh(y) - 6*cos(x)**6*sinh(y)**5*cosh(y) - 0.1464*cos(x)**2*sinh(y)*cosh(y))/(30*sin(x)**5*cos(x)*sinh(y)**2*cosh(y)**4 + 6*sin(x)**5*cos(x)*cosh(y)**6 - 60*sin(x)**3*cos(x)**3*sinh(y)**4*cosh(y)**2 - 60*sin(x)**3*cos(x)**3*sinh(y)**2*cosh(y)**4 + 6*sin(x)*cos(x)**5*sinh(y)**6 + 30*sin(x)*cos(x)**5*sinh(y)**4*cosh(y)**2 + 0.1464*sin(x)*cos(x)*sinh(y)**2 + 0.1464*sin(x)*cos(x)*cosh(y)**2) + 30*sin(x)**5*cos(x)*sinh(y)**2*cosh(y)**4 + 6*sin(x)**5*cos(x)*cosh(y)**6 - 60*sin(x)**3*cos(x)**3*sinh(y)**4*cosh(y)**2 - 60*sin(x)**3*cos(x)**3*sinh(y)**2*cosh(y)**4 + 6*sin(x)*cos(x)**5*sinh(y)**6 + 30*sin(x)*cos(x)**5*sinh(y)**4*cosh(y)**2 + 0.1464*sin(x)*cos(x)*sinh(y)**2 + 0.1464*sin(x)*cos(x)*cosh(y)**2)),                                                                                                                                                                                                                                                                                                                                                                                                                                                                                                                                                                                                                                                          1/(-(-6*sin(x)**6*sinh(y)*cosh(y)**5 + 60*sin(x)**4*cos(x)**2*sinh(y)**3*cosh(y)**3 + 30*sin(x)**4*cos(x)**2*sinh(y)*cosh(y)**5 - 30*sin(x)**2*cos(x)**4*sinh(y)**5*cosh(y) - 60*sin(x)**2*cos(x)**4*sinh(y)**3*cosh(y)**3 - 0.1464*sin(x)**2*sinh(y)*cosh(y) + 6*cos(x)**6*sinh(y)**5*cosh(y) + 0.1464*cos(x)**2*sinh(y)*cosh(y))*(6*sin(x)**6*sinh(y)*cosh(y)**5 - 60*sin(x)**4*cos(x)**2*sinh(y)**3*cosh(y)**3 - 30*sin(x)**4*cos(x)**2*sinh(y)*cosh(y)**5 + 30*sin(x)**2*cos(x)**4*sinh(y)**5*cosh(y) + 60*sin(x)**2*cos(x)**4*sinh(y)**3*cosh(y)**3 + 0.1464*sin(x)**2*sinh(y)*cosh(y) - 6*cos(x)**6*sinh(y)**5*cosh(y) - 0.1464*cos(x)**2*sinh(y)*cosh(y))/(30*sin(x)**5*cos(x)*sinh(y)**2*cosh(y)**4 + 6*sin(x)**5*cos(x)*cosh(y)**6 - 60*sin(x)**3*cos(x)**3*sinh(y)**4*cosh(y)**2 - 60*sin(x)**3*cos(x)**3*sinh(y)**2*cosh(y)**4 + 6*sin(x)*cos(x)**5*sinh(y)**6 + 30*sin(x)*cos(x)**5*sinh(y)**4*cosh(y)**2 + 0.1464*sin(x)*cos(x)*sinh(y)**2 + 0.1464*sin(x)*cos(x)*cosh(y)**2) + 30*sin(x)**5*cos(x)*sinh(y)**2*cosh(y)**4 + 6*sin(x)**5*cos(x)*cosh(y)**6 - 60*sin(x)**3*cos(x)**3*sinh(y)**4*cosh(y)**2 - 60*sin(x)**3*cos(x)**3*sinh(y)**2*cosh(y)**4 + 6*sin(x)*cos(x)**5*sinh(y)**6 + 30*sin(x)*cos(x)**5*sinh(y)**4*cosh(y)**2 + 0.1464*sin(x)*cos(x)*sinh(y)**2 + 0.1464*sin(x)*cos(x)*cosh(y)**2)]])"
      ]
     },
     "execution_count": 34,
     "metadata": {},
     "output_type": "execute_result"
    }
   ],
   "source": [
    "InvJ = J.inv(method='LU')\n",
    "InvJ"
   ]
  },
  {
   "cell_type": "code",
   "execution_count": 35,
   "metadata": {},
   "outputs": [],
   "source": [
    "Fn = sym.lambdify([x,y],F,'numpy')\n",
    "IJn = sym.lambdify([x,y],InvJ,'numpy')"
   ]
  },
  {
   "cell_type": "code",
   "execution_count": 36,
   "metadata": {},
   "outputs": [
    {
     "data": {
      "text/plain": [
       "array([[ 0.00350961,  0.02014947],\n",
       "       [-0.02014947,  0.00350961]])"
      ]
     },
     "execution_count": 36,
     "metadata": {},
     "output_type": "execute_result"
    }
   ],
   "source": [
    "IJn(1.,1.)"
   ]
  },
  {
   "cell_type": "code",
   "execution_count": 37,
   "metadata": {},
   "outputs": [],
   "source": [
    "def NewtonRaphson(z,Fn,Jn,itmax=100,precision=1e-9):\n",
    "    \n",
    "    error = 1\n",
    "    it = 0\n",
    "    \n",
    "    while error > precision and it < itmax:\n",
    "        \n",
    "        IFn = Fn(z[0],z[1])\n",
    "        IJn = Jn(z[0],z[1])\n",
    "        \n",
    "        z1 = z - np.dot(IJn,IFn)\n",
    "        \n",
    "        error = np.max( np.abs(z1-z) )\n",
    "        \n",
    "        z = z1\n",
    "        it +=1\n",
    "        \n",
    "    print(it)\n",
    "    return z"
   ]
  },
  {
   "cell_type": "code",
   "execution_count": 39,
   "metadata": {},
   "outputs": [
    {
     "name": "stdout",
     "output_type": "stream",
     "text": [
      "6\n"
     ]
    },
    {
     "data": {
      "text/plain": [
       "array([0.64393353, 0.        ])"
      ]
     },
     "execution_count": 39,
     "metadata": {},
     "output_type": "execute_result"
    }
   ],
   "source": [
    "z0 = np.array([1,0])\n",
    "zsol0 = NewtonRaphson(z0,Fn,IJn)\n",
    "zsol0"
   ]
  },
  {
   "cell_type": "code",
   "execution_count": 40,
   "metadata": {},
   "outputs": [
    {
     "name": "stdout",
     "output_type": "stream",
     "text": [
      "22\n"
     ]
    },
    {
     "data": {
      "text/plain": [
       "array([ 0.32196677, -0.56200476])"
      ]
     },
     "execution_count": 40,
     "metadata": {},
     "output_type": "execute_result"
    }
   ],
   "source": [
    "z1=np.array([1,2])\n",
    "zsol1= NewtonRaphson(z1, Fn, IJn)\n",
    "zsol1"
   ]
  },
  {
   "cell_type": "code",
   "execution_count": 41,
   "metadata": {},
   "outputs": [
    {
     "name": "stdout",
     "output_type": "stream",
     "text": [
      "6\n"
     ]
    },
    {
     "data": {
      "text/plain": [
       "array([5.63925177, 0.        ])"
      ]
     },
     "execution_count": 41,
     "metadata": {},
     "output_type": "execute_result"
    }
   ],
   "source": [
    "z2=np.array([5,0])\n",
    "zsol2= NewtonRaphson(z2, Fn, IJn)\n",
    "zsol2"
   ]
  },
  {
   "cell_type": "code",
   "execution_count": 44,
   "metadata": {},
   "outputs": [
    {
     "name": "stdout",
     "output_type": "stream",
     "text": [
      "19\n"
     ]
    },
    {
     "data": {
      "text/plain": [
       "array([2.81962589, 0.56200476])"
      ]
     },
     "execution_count": 44,
     "metadata": {},
     "output_type": "execute_result"
    }
   ],
   "source": [
    "z3=np.array([3,2])\n",
    "zsol3= NewtonRaphson(z3, Fn, IJn)\n",
    "zsol3"
   ]
  }
 ],
 "metadata": {
  "kernelspec": {
   "display_name": "Python 3",
   "language": "python",
   "name": "python3"
  },
  "language_info": {
   "codemirror_mode": {
    "name": "ipython",
    "version": 3
   },
   "file_extension": ".py",
   "mimetype": "text/x-python",
   "name": "python",
   "nbconvert_exporter": "python",
   "pygments_lexer": "ipython3",
   "version": "3.11.5"
  }
 },
 "nbformat": 4,
 "nbformat_minor": 2
}
