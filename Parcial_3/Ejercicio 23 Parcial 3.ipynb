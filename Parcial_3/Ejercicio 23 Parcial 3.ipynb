{
 "cells": [
  {
   "cell_type": "code",
   "execution_count": 1,
   "metadata": {},
   "outputs": [],
   "source": [
    "import numpy as np \n",
    "import sympy as sym\n",
    "\n",
    "A=np.array([[0.2, 0.1, 1, 1, 0], [0.1, 4, -1, 1, -1], [1,-1, 60, 0,-2],[1, 1, 0, 8, 4],[0, -1, -2, 4, 700]])\n",
    "b=np.array([1,2,3,4,5])\n",
    "AT=np.transpose(A)\n",
    "x0=np.array([0,0,0,0,0])\n",
    "\n",
    "\n"
   ]
  },
  {
   "cell_type": "code",
   "execution_count": 2,
   "metadata": {},
   "outputs": [],
   "source": [
    "def Descenso_Conjugado(A, b, x0, tolerancia=0.01):\n",
    "    it=0\n",
    "    residuo= np.dot(A,x0)-b\n",
    "    residuo1 = np.linalg.norm( np.dot(A,x0) - b)\n",
    "    p0=-residuo\n",
    "\n",
    "    while residuo1 >= tolerancia:\n",
    "        l=np.dot(A,p0)\n",
    "        alpha= (np.dot(np.transpose(residuo),p0)/np.dot(np.transpose(p0),l))*-1\n",
    "        x0= x0+np.dot(alpha,p0)\n",
    "        residuo= np.dot(A,x0)-b\n",
    "        Beta= (np.dot(np.transpose(residuo),l))/np.dot(np.transpose(p0),l)\n",
    "        p0= -residuo+np.dot(Beta,p0)\n",
    "        residuo1 = np.max(np.abs(np.dot(A,x0) - b))\n",
    "        it+=1\n",
    "\n",
    "    return x0, it\n"
   ]
  },
  {
   "cell_type": "code",
   "execution_count": 3,
   "metadata": {},
   "outputs": [
    {
     "data": {
      "text/plain": [
       "7.416198487095663"
      ]
     },
     "execution_count": 3,
     "metadata": {},
     "output_type": "execute_result"
    }
   ],
   "source": [
    "residuo1 = np.linalg.norm( np.dot(A,x0) - b)\n",
    "residuo1"
   ]
  },
  {
   "cell_type": "code",
   "execution_count": 4,
   "metadata": {},
   "outputs": [
    {
     "data": {
      "text/plain": [
       "(array([ 7.85971308,  0.42292641, -0.07359224, -0.54064302,  0.01062616]), 5)"
      ]
     },
     "execution_count": 4,
     "metadata": {},
     "output_type": "execute_result"
    }
   ],
   "source": [
    "resultado=Descenso_Conjugado(A,b,x0)\n",
    "resultado"
   ]
  },
  {
   "cell_type": "code",
   "execution_count": 5,
   "metadata": {},
   "outputs": [
    {
     "data": {
      "text/plain": [
       "array([ 7.85971308,  0.42292641, -0.07359224, -0.54064302,  0.01062616])"
      ]
     },
     "execution_count": 5,
     "metadata": {},
     "output_type": "execute_result"
    }
   ],
   "source": [
    "np.linalg.solve(A,b)"
   ]
  },
  {
   "cell_type": "markdown",
   "metadata": {},
   "source": [
    "La solución del sistema es el vector que nombramos \"resultado\". Podemos observar que los resultados obtenidos concuerdan con los resultados teóricos, también podemos percatarnos que se realizaron 5 iteraciones. "
   ]
  }
 ],
 "metadata": {
  "kernelspec": {
   "display_name": "Python 3",
   "language": "python",
   "name": "python3"
  },
  "language_info": {
   "codemirror_mode": {
    "name": "ipython",
    "version": 3
   },
   "file_extension": ".py",
   "mimetype": "text/x-python",
   "name": "python",
   "nbconvert_exporter": "python",
   "pygments_lexer": "ipython3",
   "version": "3.11.5"
  }
 },
 "nbformat": 4,
 "nbformat_minor": 2
}
