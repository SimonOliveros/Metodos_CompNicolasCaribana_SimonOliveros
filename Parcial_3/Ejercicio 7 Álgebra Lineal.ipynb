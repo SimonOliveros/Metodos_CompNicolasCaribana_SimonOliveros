{
 "cells": [
  {
   "cell_type": "code",
   "execution_count": 97,
   "metadata": {},
   "outputs": [],
   "source": [
    "import numpy as np\n",
    "A = np.array([[3,-1,-1],[-1.,3.,1.],[2,1,4]])\n",
    "b = np.array([1.,3.,7.])\n",
    "\n"
   ]
  },
  {
   "cell_type": "code",
   "execution_count": 98,
   "metadata": {},
   "outputs": [],
   "source": [
    "def SOR(A,b,x0,omega,itmax=10000,tolerancia=1e-14):\n",
    "    \n",
    "    x = x0.copy()\n",
    "    u = x.copy()\n",
    "    sumk = x.copy()\n",
    "    \n",
    "    residuo = np.linalg.norm( np.dot(A,x) - b)\n",
    "    \n",
    "    \n",
    "    \n",
    "    it = 0\n",
    "    \n",
    "    while residuo >= tolerancia and it < itmax:\n",
    "        \n",
    "        \n",
    "        u[:] = 0\n",
    "        sumk[:] = 0.\n",
    "        \n",
    "        for i in range(A.shape[0]):\n",
    "            for j in range(A.shape[1]):\n",
    "                if i != j:\n",
    "                    sumk[i] += A[i,j]*x[j]\n",
    "            #print(sumk)\n",
    "        \n",
    "            u[i] = (1-omega)*x[i]+(b[i] - sumk[i]-sumk[i-1])*(omega/A[i,i])\n",
    "        \n",
    "        \n",
    "        x = u.copy()\n",
    "        \n",
    "        #print(x,residuo)\n",
    "        # Norma infinita\n",
    "        residuo = np.max(np.abs(np.dot(A,x) - b))\n",
    "        # Norma griega\n",
    "        #residuo = np.linalg.norm( np.dot(A,x) - b)\n",
    "        \n",
    "        it += 1\n",
    "        \n",
    "        if residuo > 1000:\n",
    "            print('No calculable con Jacobi')\n",
    "            x[:] = 0.\n",
    "            break\n",
    "        \n",
    "    return x,it"
   ]
  },
  {
   "cell_type": "code",
   "execution_count": 99,
   "metadata": {},
   "outputs": [
    {
     "data": {
      "text/plain": [
       "(array([1, 1, 1]), 2)"
      ]
     },
     "execution_count": 99,
     "metadata": {},
     "output_type": "execute_result"
    }
   ],
   "source": [
    "om=np.linspace(1,2,101)\n",
    "omega=1.06\n",
    "r=SOR(A,b,np.array([0,0,0]), omega)\n",
    "r\n"
   ]
  },
  {
   "cell_type": "code",
   "execution_count": 100,
   "metadata": {},
   "outputs": [
    {
     "name": "stdout",
     "output_type": "stream",
     "text": [
      "No calculable con Jacobi\n",
      "No calculable con Jacobi\n",
      "No calculable con Jacobi\n",
      "No calculable con Jacobi\n",
      "No calculable con Jacobi\n",
      "No calculable con Jacobi\n",
      "No calculable con Jacobi\n",
      "No calculable con Jacobi\n",
      "No calculable con Jacobi\n",
      "No calculable con Jacobi\n",
      "No calculable con Jacobi\n",
      "No calculable con Jacobi\n",
      "No calculable con Jacobi\n",
      "No calculable con Jacobi\n",
      "No calculable con Jacobi\n",
      "No calculable con Jacobi\n",
      "No calculable con Jacobi\n",
      "No calculable con Jacobi\n",
      "No calculable con Jacobi\n",
      "[2, 2, 2, 2, 2, 2, 2, 2, 2, 2, 2, 2, 2, 2, 2, 4, 4, 4, 4, 4, 4, 4, 4, 4, 4, 4, 4, 4, 4, 4, 4, 4, 4, 4, 4, 4, 4, 4, 4, 4, 4, 4, 4, 4, 4, 4, 4, 4, 4, 4, 6, 6, 6, 6, 6, 6, 6, 6, 6, 6, 10000, 10000, 10000, 10000, 10000, 10000, 10000, 10000, 10000, 10000, 10000, 10000, 10000, 10000, 9, 10000, 10000, 10000, 10000, 10000, 26, 10000, 54, 54, 43, 41, 41, 39, 27, 27, 27, 24, 24, 23, 22, 21, 20, 19, 19, 19, 16]\n",
      "[1.0, 1.01, 1.02, 1.03, 1.04, 1.05, 1.06, 1.07, 1.08, 1.09, 1.1, 1.11, 1.12, 1.13, 1.1400000000000001, 1.15, 1.16, 1.17, 1.18, 1.19, 1.2, 1.21, 1.22, 1.23, 1.24, 1.25, 1.26, 1.27, 1.28, 1.29, 1.3, 1.31, 1.32, 1.33, 1.34, 1.35, 1.3599999999999999, 1.37, 1.38, 1.3900000000000001, 1.4, 1.4100000000000001, 1.42, 1.43, 1.44, 1.45, 1.46, 1.47, 1.48, 1.49, 1.5, 1.51, 1.52, 1.53, 1.54, 1.55, 1.56, 1.57, 1.58, 1.5899999999999999, 1.6, 1.6099999999999999, 1.62, 1.63, 1.6400000000000001, 1.65, 1.6600000000000001, 1.67, 1.6800000000000002, 1.69, 1.7000000000000002, 1.71, 1.72, 1.73, 1.74, 1.75, 1.76, 1.77, 1.78, 1.79, 1.8, 1.81, 1.82, 1.83, 1.8399999999999999, 1.85, 1.8599999999999999, 1.87, 1.88, 1.8900000000000001, 1.9, 1.9100000000000001, 1.92, 1.9300000000000002, 1.94, 1.9500000000000002, 1.96, 1.97, 1.98, 1.99, 2.0]\n"
     ]
    },
    {
     "data": {
      "text/plain": [
       "1.0"
      ]
     },
     "execution_count": 100,
     "metadata": {},
     "output_type": "execute_result"
    }
   ],
   "source": [
    "omegas=[]\n",
    "its=[]\n",
    "for o in om:\n",
    "    x= SOR(A,b,np.array([0,0,0]), o)\n",
    "    omegas.append(o)\n",
    "    its.append(x[1])\n",
    "print(its)\n",
    "print(omegas)\n",
    "it_min=min(its)\n",
    "pos=its.index(it_min)\n",
    "omega_min=omegas[pos]\n",
    "omega_min\n"
   ]
  },
  {
   "cell_type": "markdown",
   "metadata": {},
   "source": [
    "Podemos observar que para 1< omega < 1.14 las iteraciones son unicamente 2, cualquiera de estos valores minimiza las iteraciones"
   ]
  }
 ],
 "metadata": {
  "kernelspec": {
   "display_name": "Python 3",
   "language": "python",
   "name": "python3"
  },
  "language_info": {
   "codemirror_mode": {
    "name": "ipython",
    "version": 3
   },
   "file_extension": ".py",
   "mimetype": "text/x-python",
   "name": "python",
   "nbconvert_exporter": "python",
   "pygments_lexer": "ipython3",
   "version": "3.11.5"
  }
 },
 "nbformat": 4,
 "nbformat_minor": 2
}
