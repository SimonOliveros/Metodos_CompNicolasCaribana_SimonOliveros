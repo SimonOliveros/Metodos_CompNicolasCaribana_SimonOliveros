{
 "cells": [
  {
   "cell_type": "code",
   "execution_count": 6,
   "metadata": {},
   "outputs": [],
   "source": [
    "import numpy as np\n",
    "A=np.array([[1, 0, 0], [5, 1, 0], [-2, 3, 1]])\n",
    "B = np.array([[4, -2, 1], [0, 3, 7], [0,0,2]])"
   ]
  },
  {
   "cell_type": "code",
   "execution_count": 7,
   "metadata": {},
   "outputs": [],
   "source": [
    "def Mult_Matrices(A,B):\n",
    "\n",
    "   fA, cA = A.shape\n",
    "   fB, cB = B.shape\n",
    "   if cA != fB:\n",
    "       print(\"Estas matrices no se pueden multiplicar\")\n",
    "   else:\n",
    "       resultado = np.zeros((fA, cB))\n",
    "\n",
    "       for i in range(fA):\n",
    "           for k in range(cB):\n",
    "               for x in range(cA):\n",
    "                   resultado[i][k] += A[i][x] * B[x][k]\n",
    "\n",
    "       return resultado"
   ]
  },
  {
   "cell_type": "code",
   "execution_count": 8,
   "metadata": {},
   "outputs": [
    {
     "data": {
      "text/plain": [
       "array([[ 4., -2.,  1.],\n",
       "       [20., -7., 12.],\n",
       "       [-8., 13., 21.]])"
      ]
     },
     "execution_count": 8,
     "metadata": {},
     "output_type": "execute_result"
    }
   ],
   "source": [
    "r=Mult_Matrices(A,B)\n",
    "r"
   ]
  }
 ],
 "metadata": {
  "kernelspec": {
   "display_name": "Python 3",
   "language": "python",
   "name": "python3"
  },
  "language_info": {
   "codemirror_mode": {
    "name": "ipython",
    "version": 3
   },
   "file_extension": ".py",
   "mimetype": "text/x-python",
   "name": "python",
   "nbconvert_exporter": "python",
   "pygments_lexer": "ipython3",
   "version": "3.11.5"
  }
 },
 "nbformat": 4,
 "nbformat_minor": 2
}
