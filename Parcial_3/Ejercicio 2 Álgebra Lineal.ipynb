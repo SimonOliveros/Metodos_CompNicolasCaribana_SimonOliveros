{
 "cells": [
  {
   "cell_type": "code",
   "execution_count": 8,
   "metadata": {},
   "outputs": [],
   "source": [
    "import numpy as np\n",
    "import matplotlib.pyplot as plt\n",
    "from mpl_toolkits.mplot3d import axes3d\n",
    "import matplotlib.animation as animation\n",
    "from tqdm import tqdm"
   ]
  },
  {
   "cell_type": "code",
   "execution_count": 9,
   "metadata": {},
   "outputs": [],
   "source": [
    "def f2(x,y):\n",
    "    return x**4 + y**4 - 2*(x-y)**2"
   ]
  },
  {
   "cell_type": "code",
   "execution_count": 10,
   "metadata": {},
   "outputs": [],
   "source": [
    "Dx = lambda f,x,y,h=1e-5: (f(x+h,y) - f(x-h,y))/(2*h)\n",
    "Dy = lambda f,x,y,h=1e-5: (f(x,y+h) - f(x,y-h))/(2*h)"
   ]
  },
  {
   "cell_type": "code",
   "execution_count": 11,
   "metadata": {},
   "outputs": [],
   "source": [
    "x0, y0 = 0,3"
   ]
  },
  {
   "cell_type": "code",
   "execution_count": 12,
   "metadata": {},
   "outputs": [
    {
     "data": {
      "text/plain": [
       "array([12., 96.])"
      ]
     },
     "execution_count": 12,
     "metadata": {},
     "output_type": "execute_result"
    }
   ],
   "source": [
    "Gradient = lambda f,x,y: np.array([Dx(f,x,y),Dy(f,x,y)])\n",
    "Gradient(f2,x0,y0)"
   ]
  },
  {
   "cell_type": "code",
   "execution_count": 13,
   "metadata": {},
   "outputs": [],
   "source": [
    "def momentum(x0, f, n, gamma = 0.001, N = 1000):\n",
    "    r = np.zeros((N,2))\n",
    "    r[0] = x0\n",
    "    \n",
    "    Grad = np.zeros((N,2))\n",
    "    Grad[0] = Gradient(f,r[0,0],r[0,1])\n",
    "    \n",
    "    # We save the gradient in each step\n",
    "    error = 10**(-5)\n",
    "    it = 0\n",
    "\n",
    "    for i in (range(1,N)):\n",
    "        r[i] = r[i-1] - gamma*Gradient(f,r[i-1,0],r[i-1,1]) + n*(r[i-2] - r[i-3])\n",
    "        Grad[i] = Gradient(f,r[i-1,0],r[i-1,1])\n",
    "        it += 1\n",
    "        if np.sqrt((Grad[i][0])**2 + (Grad[i][1])**2) < error:\n",
    "            return r, it\n",
    "    return r,it\n",
    "\n",
    "iteraciones=momentum(x0, f2, 0.6)[1]\n",
    "#"
   ]
  },
  {
   "cell_type": "code",
   "execution_count": 14,
   "metadata": {},
   "outputs": [],
   "source": [
    "for n in np.arange(0,1.1, 0.1):\n",
    "    if momentum (x0, f2,n)== iteraciones/2:\n",
    "        print(True)\n",
    "    else:\n",
    "        print False"
   ]
  }
 ],
 "metadata": {
  "kernelspec": {
   "display_name": "base",
   "language": "python",
   "name": "python3"
  },
  "language_info": {
   "codemirror_mode": {
    "name": "ipython",
    "version": 3
   },
   "file_extension": ".py",
   "mimetype": "text/x-python",
   "name": "python",
   "nbconvert_exporter": "python",
   "pygments_lexer": "ipython3",
   "version": "3.9.13"
  },
  "orig_nbformat": 4
 },
 "nbformat": 4,
 "nbformat_minor": 2
}
