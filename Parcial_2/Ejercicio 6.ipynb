{
  "nbformat": 4,
  "nbformat_minor": 0,
  "metadata": {
    "colab": {
      "provenance": []
    },
    "kernelspec": {
      "name": "python3",
      "display_name": "Python 3"
    },
    "language_info": {
      "name": "python"
    }
  },
  "cells": [
    {
      "cell_type": "code",
      "execution_count": 2,
      "metadata": {
        "colab": {
          "base_uri": "https://localhost:8080/"
        },
        "id": "dz9xdRUJYOdI",
        "outputId": "539e96c4-0ded-4242-f6f6-742578beafcc"
      },
      "outputs": [
        {
          "output_type": "stream",
          "name": "stdout",
          "text": [
            "el resultado por Simpson 1/3 es: 0.00031414002127578937 y su error porcentual es: 0.02%\n",
            "el resultado por trapecio  es: 0.0003141801814672728 y su error porcentual es: 0.003%\n"
          ]
        }
      ],
      "source": [
        "import numpy as np\n",
        "\n",
        "def Funcion_integrar(x):\n",
        "    return np.sqrt(0.01**2-x**2)/(0.5+x)\n",
        "def metodo_del_trapecio(f, a, b, n):\n",
        "\n",
        "\n",
        "    h = (b - a) / n  # Tamaño de cada subintervalo\n",
        "    suma = 0.5 * (f(a) + f(b))  # Inicializar la suma con los extremos\n",
        "    for i in range(1, n):\n",
        "        x_i = a + i * h\n",
        "        suma += f(x_i)  # Agregar el valor de f(x_i) a la suma\n",
        "    resultado = h * suma\n",
        "    return resultado\n",
        "def Simpson3(a,b, n, Function):\n",
        "\n",
        "    prueba=np.linspace(a,b,n)\n",
        "\n",
        "    h=(b-a)/(n-1)\n",
        "    d=h/3\n",
        "    suma=0\n",
        "\n",
        "    for i in range(1,n-1):\n",
        "\n",
        "        if (i%2)==0 or i==0:\n",
        "            suma+=Function(prueba[i])+(4*Function(prueba[i+1]))+Function(prueba[i+2])\n",
        "\n",
        "\n",
        "    return suma*d\n",
        "exacto=np.pi*(0.5-(np.sqrt(0.5**2-0.01**2)))\n",
        "simp=Simpson3(-0.01, 0.01, 1001, Funcion_integrar)\n",
        "trapecio=metodo_del_trapecio(Funcion_integrar, -0.01, 0.01, 1001)\n",
        "\n",
        "print(\"el resultado por Simpson 1/3 es: \"+str(Simpson3(-0.01, 0.01, 1001, Funcion_integrar))+\" y su error porcentual es: \"+str(round(np.abs(simp-exacto)*100/exacto,2))+\"%\")\n",
        "print(\"el resultado por trapecio  es: \"+str(trapecio)+\" y su error porcentual es: \"+str(round(np.abs(trapecio-exacto)*100/exacto,3))+\"%\")\n"
      ]
    }
  ]
}