{
 "cells": [
  {
   "cell_type": "code",
   "execution_count": 136,
   "metadata": {},
   "outputs": [],
   "source": [
    "import numpy as np\n",
    "import sympy as sym\n",
    "import math as math\n",
    "import matplotlib.pyplot as plt\n",
    "\n",
    "x = sym.Symbol('x',real=True)\n",
    "y = sym.Symbol('y',real=True)\n",
    "\n",
    "def Function(T, Tam_Banda,x):\n",
    "    return (np.tanh(np.sqrt(x**2+Tam_Banda**2)*300/2*T))/np.sqrt(x**2+Tam_Banda**2)\n",
    "\n",
    "n=50\n",
    "\n"
   ]
  },
  {
   "cell_type": "code",
   "execution_count": 137,
   "metadata": {},
   "outputs": [],
   "source": [
    "def GetLegendre(n,x,y):\n",
    "    \n",
    "    y = (x**2 - 1)**n\n",
    "    \n",
    "    poly = sym.diff( y,x,n )/(2**n*np.math.factorial(n))\n",
    "    \n",
    "    return poly"
   ]
  },
  {
   "cell_type": "code",
   "execution_count": 138,
   "metadata": {},
   "outputs": [
    {
     "name": "stderr",
     "output_type": "stream",
     "text": [
      "C:\\Users\\simon\\AppData\\Local\\Temp\\ipykernel_18032\\3349966814.py:5: DeprecationWarning: `np.math` is a deprecated alias for the standard library `math` module (Deprecated Numpy 1.25). Replace usages of `np.math` with `math`\n",
      "  poly = sym.diff( y,x,n )/(2**n*np.math.factorial(n))\n"
     ]
    }
   ],
   "source": [
    "Legendre = []\n",
    "DLegendre = []\n",
    "\n",
    "for i in range(n+1):\n",
    "    Poly = GetLegendre(i,x,y)\n",
    "    Legendre.append(Poly)\n",
    "    DLegendre.append(sym.diff(Poly,x,1))"
   ]
  },
  {
   "cell_type": "code",
   "execution_count": 139,
   "metadata": {},
   "outputs": [],
   "source": [
    "def GetNewton(f,df,xn,itmax=10000,precision=1e-14):\n",
    "    \n",
    "    error = 1.\n",
    "    it = 0\n",
    "    \n",
    "    while error >= precision and it < itmax:\n",
    "        \n",
    "        try:\n",
    "            \n",
    "            xn1 = xn - f(xn)/df(xn)\n",
    "            \n",
    "            error = np.abs(f(xn)/df(xn))\n",
    "            \n",
    "        except ZeroDivisionError:\n",
    "            print('Zero Division')\n",
    "            \n",
    "        xn = xn1\n",
    "        it += 1\n",
    "        \n",
    "    if it == itmax:\n",
    "        return False\n",
    "    else:\n",
    "        return xn"
   ]
  },
  {
   "cell_type": "code",
   "execution_count": 140,
   "metadata": {},
   "outputs": [],
   "source": [
    "def GetRoots(f,df,x,tolerancia = 10):\n",
    "    \n",
    "    Roots = np.array([])\n",
    "    \n",
    "    for i in x:\n",
    "        \n",
    "        root = GetNewton(f,df,i)\n",
    "        \n",
    "        if root != False:\n",
    "            \n",
    "            croot = np.round( root, tolerancia )\n",
    "            \n",
    "            if croot not in Roots:\n",
    "                Roots = np.append(Roots, croot)\n",
    "                \n",
    "    Roots.sort()\n",
    "    \n",
    "    return Roots"
   ]
  },
  {
   "cell_type": "code",
   "execution_count": 141,
   "metadata": {},
   "outputs": [],
   "source": [
    "def GetAllRoots(n,xn,Legendre,DLegendre):\n",
    "    \n",
    "    poly = sym.lambdify([x],Legendre[n],'numpy')\n",
    "    Dpoly = sym.lambdify([x],DLegendre[n],'numpy')\n",
    "    Roots = GetRoots(poly,Dpoly,xn)\n",
    "    \n",
    "    return Roots"
   ]
  },
  {
   "cell_type": "code",
   "execution_count": 142,
   "metadata": {},
   "outputs": [
    {
     "data": {
      "text/plain": [
       "array([-0.9988664 , -0.95661096, -0.93665662, -0.91307856, -0.88596798,\n",
       "       -0.85542977, -0.82158207, -0.60770293, -0.5571583 , -0.50445814,\n",
       "       -0.44980634, -0.39341431, -0.33550025, -0.27628819, -0.21600724,\n",
       "       -0.15489059, -0.0931747 , -0.03109834,  0.03109834,  0.0931747 ,\n",
       "        0.15489059,  0.21600724,  0.27628819,  0.33550025,  0.39341431,\n",
       "        0.44980634,  0.50445814,  0.5571583 ,  0.65589647,  0.70155247,\n",
       "        0.7444943 ,  0.82158207,  0.85542977,  0.88596798,  0.91307856,\n",
       "        0.93665662,  0.95661096,  0.9988664 ])"
      ]
     },
     "execution_count": 142,
     "metadata": {},
     "output_type": "execute_result"
    }
   ],
   "source": [
    "\n",
    "xn = np.linspace(-1,1,100)\n",
    "Roots1 = GetAllRoots(n,xn,Legendre,DLegendre)\n",
    "Roots1"
   ]
  },
  {
   "cell_type": "code",
   "execution_count": 143,
   "metadata": {},
   "outputs": [],
   "source": [
    "def GetWeights(Roots,DLegendre):\n",
    "    \n",
    "    Dpoly = sym.lambdify([x],DLegendre[n],'numpy')\n",
    "    Weights = 2/((1-Roots**2)*Dpoly(Roots)**2)\n",
    "    \n",
    "    return Weights\n"
   ]
  },
  {
   "cell_type": "code",
   "execution_count": 144,
   "metadata": {},
   "outputs": [
    {
     "data": {
      "text/plain": [
       "array([0.00290862, 0.01811556, 0.02178024, 0.02536067, 0.02884299,\n",
       "       0.03221373, 0.03545984, 0.04940094, 0.0516557 , 0.05371062,\n",
       "       0.05555774, 0.05718993, 0.05860085, 0.05978506, 0.06073797,\n",
       "       0.0614559 , 0.06193607, 0.06217662, 0.06217662, 0.06193607,\n",
       "       0.0614559 , 0.06073797, 0.05978506, 0.05860085, 0.05718993,\n",
       "       0.05555774, 0.05371062, 0.0516557 , 0.04695505, 0.0443275 ,\n",
       "       0.04152846, 0.03545984, 0.03221373, 0.02884299, 0.02536067,\n",
       "       0.02178024, 0.01811556, 0.00290862])"
      ]
     },
     "execution_count": 144,
     "metadata": {},
     "output_type": "execute_result"
    }
   ],
   "source": [
    "Pesos=GetWeights(Roots1,DLegendre)\n",
    "Pesos"
   ]
  },
  {
   "cell_type": "code",
   "execution_count": 145,
   "metadata": {},
   "outputs": [
    {
     "data": {
      "text/plain": [
       "38"
      ]
     },
     "execution_count": 145,
     "metadata": {},
     "output_type": "execute_result"
    }
   ],
   "source": [
    "\n",
    "dT=np.linspace(1,20,1901)\n",
    "dT\n",
    "f= lambda x: x**2\n",
    "len(Pesos)"
   ]
  },
  {
   "cell_type": "code",
   "execution_count": 146,
   "metadata": {},
   "outputs": [
    {
     "ename": "KeyboardInterrupt",
     "evalue": "",
     "output_type": "error",
     "traceback": [
      "\u001b[1;31m---------------------------------------------------------------------------\u001b[0m",
      "\u001b[1;31mKeyboardInterrupt\u001b[0m                         Traceback (most recent call last)",
      "\u001b[1;32mc:\\Users\\simon\\OneDrive\\Documentos\\3er semestre\\MCI\\Repositorio entregas\\Metodos_CompNicolasCaribana_SimonOliveros\\Parcial 2\\Ejercicio 19 real.ipynb Cell 11\u001b[0m line \u001b[0;36m9\n\u001b[0;32m      <a href='vscode-notebook-cell:/c%3A/Users/simon/OneDrive/Documentos/3er%20semestre/MCI/Repositorio%20entregas/Metodos_CompNicolasCaribana_SimonOliveros/Parcial%202/Ejercicio%2019%20real.ipynb#X13sZmlsZQ%3D%3D?line=5'>6</a>\u001b[0m         \u001b[39msum\u001b[39m\u001b[39m+\u001b[39m\u001b[39m=\u001b[39m Pesos[k]\u001b[39m*\u001b[39mf(Raices[k])\n\u001b[0;32m      <a href='vscode-notebook-cell:/c%3A/Users/simon/OneDrive/Documentos/3er%20semestre/MCI/Repositorio%20entregas/Metodos_CompNicolasCaribana_SimonOliveros/Parcial%202/Ejercicio%2019%20real.ipynb#X13sZmlsZQ%3D%3D?line=6'>7</a>\u001b[0m     \u001b[39mreturn\u001b[39;00m \u001b[39msum\u001b[39m\n\u001b[1;32m----> <a href='vscode-notebook-cell:/c%3A/Users/simon/OneDrive/Documentos/3er%20semestre/MCI/Repositorio%20entregas/Metodos_CompNicolasCaribana_SimonOliveros/Parcial%202/Ejercicio%2019%20real.ipynb#X13sZmlsZQ%3D%3D?line=8'>9</a>\u001b[0m res\u001b[39m=\u001b[39mIntegralLegendre(f,\u001b[39m50\u001b[39;49m)\n\u001b[0;32m     <a href='vscode-notebook-cell:/c%3A/Users/simon/OneDrive/Documentos/3er%20semestre/MCI/Repositorio%20entregas/Metodos_CompNicolasCaribana_SimonOliveros/Parcial%202/Ejercicio%2019%20real.ipynb#X13sZmlsZQ%3D%3D?line=9'>10</a>\u001b[0m res\n",
      "\u001b[1;32mc:\\Users\\simon\\OneDrive\\Documentos\\3er semestre\\MCI\\Repositorio entregas\\Metodos_CompNicolasCaribana_SimonOliveros\\Parcial 2\\Ejercicio 19 real.ipynb Cell 11\u001b[0m line \u001b[0;36m4\n\u001b[0;32m      <a href='vscode-notebook-cell:/c%3A/Users/simon/OneDrive/Documentos/3er%20semestre/MCI/Repositorio%20entregas/Metodos_CompNicolasCaribana_SimonOliveros/Parcial%202/Ejercicio%2019%20real.ipynb#X13sZmlsZQ%3D%3D?line=1'>2</a>\u001b[0m \u001b[39msum\u001b[39m\u001b[39m=\u001b[39m\u001b[39m0\u001b[39m\n\u001b[0;32m      <a href='vscode-notebook-cell:/c%3A/Users/simon/OneDrive/Documentos/3er%20semestre/MCI/Repositorio%20entregas/Metodos_CompNicolasCaribana_SimonOliveros/Parcial%202/Ejercicio%2019%20real.ipynb#X13sZmlsZQ%3D%3D?line=2'>3</a>\u001b[0m \u001b[39mfor\u001b[39;00m k \u001b[39min\u001b[39;00m \u001b[39mrange\u001b[39m(n):\n\u001b[1;32m----> <a href='vscode-notebook-cell:/c%3A/Users/simon/OneDrive/Documentos/3er%20semestre/MCI/Repositorio%20entregas/Metodos_CompNicolasCaribana_SimonOliveros/Parcial%202/Ejercicio%2019%20real.ipynb#X13sZmlsZQ%3D%3D?line=3'>4</a>\u001b[0m     Raices\u001b[39m=\u001b[39mGetAllRoots(n,xn, Legendre, DLegendre)\n\u001b[0;32m      <a href='vscode-notebook-cell:/c%3A/Users/simon/OneDrive/Documentos/3er%20semestre/MCI/Repositorio%20entregas/Metodos_CompNicolasCaribana_SimonOliveros/Parcial%202/Ejercicio%2019%20real.ipynb#X13sZmlsZQ%3D%3D?line=4'>5</a>\u001b[0m     Pesos\u001b[39m=\u001b[39mGetWeights(Raices,DLegendre)\n\u001b[0;32m      <a href='vscode-notebook-cell:/c%3A/Users/simon/OneDrive/Documentos/3er%20semestre/MCI/Repositorio%20entregas/Metodos_CompNicolasCaribana_SimonOliveros/Parcial%202/Ejercicio%2019%20real.ipynb#X13sZmlsZQ%3D%3D?line=5'>6</a>\u001b[0m     \u001b[39msum\u001b[39m\u001b[39m+\u001b[39m\u001b[39m=\u001b[39m Pesos[k]\u001b[39m*\u001b[39mf(Raices[k])\n",
      "\u001b[1;32mc:\\Users\\simon\\OneDrive\\Documentos\\3er semestre\\MCI\\Repositorio entregas\\Metodos_CompNicolasCaribana_SimonOliveros\\Parcial 2\\Ejercicio 19 real.ipynb Cell 11\u001b[0m line \u001b[0;36m5\n\u001b[0;32m      <a href='vscode-notebook-cell:/c%3A/Users/simon/OneDrive/Documentos/3er%20semestre/MCI/Repositorio%20entregas/Metodos_CompNicolasCaribana_SimonOliveros/Parcial%202/Ejercicio%2019%20real.ipynb#X13sZmlsZQ%3D%3D?line=2'>3</a>\u001b[0m poly \u001b[39m=\u001b[39m sym\u001b[39m.\u001b[39mlambdify([x],Legendre[n],\u001b[39m'\u001b[39m\u001b[39mnumpy\u001b[39m\u001b[39m'\u001b[39m)\n\u001b[0;32m      <a href='vscode-notebook-cell:/c%3A/Users/simon/OneDrive/Documentos/3er%20semestre/MCI/Repositorio%20entregas/Metodos_CompNicolasCaribana_SimonOliveros/Parcial%202/Ejercicio%2019%20real.ipynb#X13sZmlsZQ%3D%3D?line=3'>4</a>\u001b[0m Dpoly \u001b[39m=\u001b[39m sym\u001b[39m.\u001b[39mlambdify([x],DLegendre[n],\u001b[39m'\u001b[39m\u001b[39mnumpy\u001b[39m\u001b[39m'\u001b[39m)\n\u001b[1;32m----> <a href='vscode-notebook-cell:/c%3A/Users/simon/OneDrive/Documentos/3er%20semestre/MCI/Repositorio%20entregas/Metodos_CompNicolasCaribana_SimonOliveros/Parcial%202/Ejercicio%2019%20real.ipynb#X13sZmlsZQ%3D%3D?line=4'>5</a>\u001b[0m Roots \u001b[39m=\u001b[39m GetRoots(poly,Dpoly,xn)\n\u001b[0;32m      <a href='vscode-notebook-cell:/c%3A/Users/simon/OneDrive/Documentos/3er%20semestre/MCI/Repositorio%20entregas/Metodos_CompNicolasCaribana_SimonOliveros/Parcial%202/Ejercicio%2019%20real.ipynb#X13sZmlsZQ%3D%3D?line=6'>7</a>\u001b[0m \u001b[39mreturn\u001b[39;00m Roots\n",
      "\u001b[1;32mc:\\Users\\simon\\OneDrive\\Documentos\\3er semestre\\MCI\\Repositorio entregas\\Metodos_CompNicolasCaribana_SimonOliveros\\Parcial 2\\Ejercicio 19 real.ipynb Cell 11\u001b[0m line \u001b[0;36m7\n\u001b[0;32m      <a href='vscode-notebook-cell:/c%3A/Users/simon/OneDrive/Documentos/3er%20semestre/MCI/Repositorio%20entregas/Metodos_CompNicolasCaribana_SimonOliveros/Parcial%202/Ejercicio%2019%20real.ipynb#X13sZmlsZQ%3D%3D?line=2'>3</a>\u001b[0m Roots \u001b[39m=\u001b[39m np\u001b[39m.\u001b[39marray([])\n\u001b[0;32m      <a href='vscode-notebook-cell:/c%3A/Users/simon/OneDrive/Documentos/3er%20semestre/MCI/Repositorio%20entregas/Metodos_CompNicolasCaribana_SimonOliveros/Parcial%202/Ejercicio%2019%20real.ipynb#X13sZmlsZQ%3D%3D?line=4'>5</a>\u001b[0m \u001b[39mfor\u001b[39;00m i \u001b[39min\u001b[39;00m x:\n\u001b[1;32m----> <a href='vscode-notebook-cell:/c%3A/Users/simon/OneDrive/Documentos/3er%20semestre/MCI/Repositorio%20entregas/Metodos_CompNicolasCaribana_SimonOliveros/Parcial%202/Ejercicio%2019%20real.ipynb#X13sZmlsZQ%3D%3D?line=6'>7</a>\u001b[0m     root \u001b[39m=\u001b[39m GetNewton(f,df,i)\n\u001b[0;32m      <a href='vscode-notebook-cell:/c%3A/Users/simon/OneDrive/Documentos/3er%20semestre/MCI/Repositorio%20entregas/Metodos_CompNicolasCaribana_SimonOliveros/Parcial%202/Ejercicio%2019%20real.ipynb#X13sZmlsZQ%3D%3D?line=8'>9</a>\u001b[0m     \u001b[39mif\u001b[39;00m root \u001b[39m!=\u001b[39m \u001b[39mFalse\u001b[39;00m:\n\u001b[0;32m     <a href='vscode-notebook-cell:/c%3A/Users/simon/OneDrive/Documentos/3er%20semestre/MCI/Repositorio%20entregas/Metodos_CompNicolasCaribana_SimonOliveros/Parcial%202/Ejercicio%2019%20real.ipynb#X13sZmlsZQ%3D%3D?line=10'>11</a>\u001b[0m         croot \u001b[39m=\u001b[39m np\u001b[39m.\u001b[39mround( root, tolerancia )\n",
      "\u001b[1;32mc:\\Users\\simon\\OneDrive\\Documentos\\3er semestre\\MCI\\Repositorio entregas\\Metodos_CompNicolasCaribana_SimonOliveros\\Parcial 2\\Ejercicio 19 real.ipynb Cell 11\u001b[0m line \u001b[0;36m1\n\u001b[0;32m      <a href='vscode-notebook-cell:/c%3A/Users/simon/OneDrive/Documentos/3er%20semestre/MCI/Repositorio%20entregas/Metodos_CompNicolasCaribana_SimonOliveros/Parcial%202/Ejercicio%2019%20real.ipynb#X13sZmlsZQ%3D%3D?line=7'>8</a>\u001b[0m \u001b[39mtry\u001b[39;00m:\n\u001b[0;32m     <a href='vscode-notebook-cell:/c%3A/Users/simon/OneDrive/Documentos/3er%20semestre/MCI/Repositorio%20entregas/Metodos_CompNicolasCaribana_SimonOliveros/Parcial%202/Ejercicio%2019%20real.ipynb#X13sZmlsZQ%3D%3D?line=9'>10</a>\u001b[0m     xn1 \u001b[39m=\u001b[39m xn \u001b[39m-\u001b[39m f(xn)\u001b[39m/\u001b[39mdf(xn)\n\u001b[1;32m---> <a href='vscode-notebook-cell:/c%3A/Users/simon/OneDrive/Documentos/3er%20semestre/MCI/Repositorio%20entregas/Metodos_CompNicolasCaribana_SimonOliveros/Parcial%202/Ejercicio%2019%20real.ipynb#X13sZmlsZQ%3D%3D?line=11'>12</a>\u001b[0m     error \u001b[39m=\u001b[39m np\u001b[39m.\u001b[39mabs(f(xn)\u001b[39m/\u001b[39mdf(xn))\n\u001b[0;32m     <a href='vscode-notebook-cell:/c%3A/Users/simon/OneDrive/Documentos/3er%20semestre/MCI/Repositorio%20entregas/Metodos_CompNicolasCaribana_SimonOliveros/Parcial%202/Ejercicio%2019%20real.ipynb#X13sZmlsZQ%3D%3D?line=13'>14</a>\u001b[0m \u001b[39mexcept\u001b[39;00m \u001b[39mZeroDivisionError\u001b[39;00m:\n\u001b[0;32m     <a href='vscode-notebook-cell:/c%3A/Users/simon/OneDrive/Documentos/3er%20semestre/MCI/Repositorio%20entregas/Metodos_CompNicolasCaribana_SimonOliveros/Parcial%202/Ejercicio%2019%20real.ipynb#X13sZmlsZQ%3D%3D?line=14'>15</a>\u001b[0m     \u001b[39mprint\u001b[39m(\u001b[39m'\u001b[39m\u001b[39mZero Division\u001b[39m\u001b[39m'\u001b[39m)\n",
      "File \u001b[1;32m<lambdifygenerated-568>:1\u001b[0m, in \u001b[0;36m_lambdifygenerated\u001b[1;34m(x)\u001b[0m\n\u001b[1;32m----> 1\u001b[0m \u001b[39mdef\u001b[39;00m \u001b[39m_lambdifygenerated\u001b[39m(x):\n\u001b[0;32m      2\u001b[0m     \u001b[39mreturn\u001b[39;00m \u001b[39m1275\u001b[39m\u001b[39m*\u001b[39mx\u001b[39m*\u001b[39m\u001b[39m*\u001b[39m\u001b[39m49\u001b[39m \u001b[39m+\u001b[39m \u001b[39m374850\u001b[39m\u001b[39m*\u001b[39mx\u001b[39m*\u001b[39m\u001b[39m*\u001b[39m\u001b[39m47\u001b[39m\u001b[39m*\u001b[39m(x\u001b[39m*\u001b[39m\u001b[39m*\u001b[39m\u001b[39m2\u001b[39m \u001b[39m-\u001b[39m \u001b[39m1\u001b[39m) \u001b[39m+\u001b[39m (\u001b[39m67535475\u001b[39m\u001b[39m/\u001b[39m\u001b[39m2\u001b[39m)\u001b[39m*\u001b[39mx\u001b[39m*\u001b[39m\u001b[39m*\u001b[39m\u001b[39m45\u001b[39m\u001b[39m*\u001b[39m(x\u001b[39m*\u001b[39m\u001b[39m*\u001b[39m\u001b[39m2\u001b[39m \u001b[39m-\u001b[39m \u001b[39m1\u001b[39m)\u001b[39m*\u001b[39m\u001b[39m*\u001b[39m\u001b[39m2\u001b[39m \u001b[39m+\u001b[39m (\u001b[39m11143353375\u001b[39m\u001b[39m/\u001b[39m\u001b[39m8\u001b[39m)\u001b[39m*\u001b[39mx\u001b[39m*\u001b[39m\u001b[39m*\u001b[39m\u001b[39m43\u001b[39m\u001b[39m*\u001b[39m(x\u001b[39m*\u001b[39m\u001b[39m*\u001b[39m\u001b[39m2\u001b[39m \u001b[39m-\u001b[39m \u001b[39m1\u001b[39m)\u001b[39m*\u001b[39m\u001b[39m*\u001b[39m\u001b[39m3\u001b[39m \u001b[39m+\u001b[39m (\u001b[39m2012489619525\u001b[39m\u001b[39m/\u001b[39m\u001b[39m64\u001b[39m)\u001b[39m*\u001b[39mx\u001b[39m*\u001b[39m\u001b[39m*\u001b[39m\u001b[39m41\u001b[39m\u001b[39m*\u001b[39m(x\u001b[39m*\u001b[39m\u001b[39m*\u001b[39m\u001b[39m2\u001b[39m \u001b[39m-\u001b[39m \u001b[39m1\u001b[39m)\u001b[39m*\u001b[39m\u001b[39m*\u001b[39m\u001b[39m4\u001b[39m \u001b[39m+\u001b[39m (\u001b[39m27504024800175\u001b[39m\u001b[39m/\u001b[39m\u001b[39m64\u001b[39m)\u001b[39m*\u001b[39mx\u001b[39m*\u001b[39m\u001b[39m*\u001b[39m\u001b[39m39\u001b[39m\u001b[39m*\u001b[39m(x\u001b[39m*\u001b[39m\u001b[39m*\u001b[39m\u001b[39m2\u001b[39m \u001b[39m-\u001b[39m \u001b[39m1\u001b[39m)\u001b[39m*\u001b[39m\u001b[39m*\u001b[39m\u001b[39m5\u001b[39m \u001b[39m+\u001b[39m (\u001b[39m970499160806175\u001b[39m\u001b[39m/\u001b[39m\u001b[39m256\u001b[39m)\u001b[39m*\u001b[39mx\u001b[39m*\u001b[39m\u001b[39m*\u001b[39m\u001b[39m37\u001b[39m\u001b[39m*\u001b[39m(x\u001b[39m*\u001b[39m\u001b[39m*\u001b[39m\u001b[39m2\u001b[39m \u001b[39m-\u001b[39m \u001b[39m1\u001b[39m)\u001b[39m*\u001b[39m\u001b[39m*\u001b[39m\u001b[39m6\u001b[39m \u001b[39m+\u001b[39m (\u001b[39m46168031506922325\u001b[39m\u001b[39m/\u001b[39m\u001b[39m2048\u001b[39m)\u001b[39m*\u001b[39mx\u001b[39m*\u001b[39m\u001b[39m*\u001b[39m\u001b[39m35\u001b[39m\u001b[39m*\u001b[39m(x\u001b[39m*\u001b[39m\u001b[39m*\u001b[39m\u001b[39m2\u001b[39m \u001b[39m-\u001b[39m \u001b[39m1\u001b[39m)\u001b[39m*\u001b[39m\u001b[39m*\u001b[39m\u001b[39m7\u001b[39m \u001b[39m+\u001b[39m (\u001b[39m3052219860735420375\u001b[39m\u001b[39m/\u001b[39m\u001b[39m32768\u001b[39m)\u001b[39m*\u001b[39mx\u001b[39m*\u001b[39m\u001b[39m*\u001b[39m\u001b[39m33\u001b[39m\u001b[39m*\u001b[39m(x\u001b[39m*\u001b[39m\u001b[39m*\u001b[39m\u001b[39m2\u001b[39m \u001b[39m-\u001b[39m \u001b[39m1\u001b[39m)\u001b[39m*\u001b[39m\u001b[39m*\u001b[39m\u001b[39m8\u001b[39m \u001b[39m+\u001b[39m (\u001b[39m2238294564539308275\u001b[39m\u001b[39m/\u001b[39m\u001b[39m8192\u001b[39m)\u001b[39m*\u001b[39mx\u001b[39m*\u001b[39m\u001b[39m*\u001b[39m\u001b[39m31\u001b[39m\u001b[39m*\u001b[39m(x\u001b[39m*\u001b[39m\u001b[39m*\u001b[39m\u001b[39m2\u001b[39m \u001b[39m-\u001b[39m \u001b[39m1\u001b[39m)\u001b[39m*\u001b[39m\u001b[39m*\u001b[39m\u001b[39m9\u001b[39m \u001b[39m+\u001b[39m (\u001b[39m18923763136559606325\u001b[39m\u001b[39m/\u001b[39m\u001b[39m32768\u001b[39m)\u001b[39m*\u001b[39mx\u001b[39m*\u001b[39m\u001b[39m*\u001b[39m\u001b[39m29\u001b[39m\u001b[39m*\u001b[39m(x\u001b[39m*\u001b[39m\u001b[39m*\u001b[39m\u001b[39m2\u001b[39m \u001b[39m-\u001b[39m \u001b[39m1\u001b[39m)\u001b[39m*\u001b[39m\u001b[39m*\u001b[39m\u001b[39m10\u001b[39m \u001b[39m+\u001b[39m (\u001b[39m116409815658230305575\u001b[39m\u001b[39m/\u001b[39m\u001b[39m131072\u001b[39m)\u001b[39m*\u001b[39mx\u001b[39m*\u001b[39m\u001b[39m*\u001b[39m\u001b[39m27\u001b[39m\u001b[39m*\u001b[39m(x\u001b[39m*\u001b[39m\u001b[39m*\u001b[39m\u001b[39m2\u001b[39m \u001b[39m-\u001b[39m \u001b[39m1\u001b[39m)\u001b[39m*\u001b[39m\u001b[39m*\u001b[39m\u001b[39m11\u001b[39m \u001b[39m+\u001b[39m (\u001b[39m1047688340924072750175\u001b[39m\u001b[39m/\u001b[39m\u001b[39m1048576\u001b[39m)\u001b[39m*\u001b[39mx\u001b[39m*\u001b[39m\u001b[39m*\u001b[39m\u001b[39m25\u001b[39m\u001b[39m*\u001b[39m(x\u001b[39m*\u001b[39m\u001b[39m*\u001b[39m\u001b[39m2\u001b[39m \u001b[39m-\u001b[39m \u001b[39m1\u001b[39m)\u001b[39m*\u001b[39m\u001b[39m*\u001b[39m\u001b[39m12\u001b[39m \u001b[39m+\u001b[39m (\u001b[39m863479401860499519375\u001b[39m\u001b[39m/\u001b[39m\u001b[39m1048576\u001b[39m)\u001b[39m*\u001b[39mx\u001b[39m*\u001b[39m\u001b[39m*\u001b[39m\u001b[39m23\u001b[39m\u001b[39m*\u001b[39m(x\u001b[39m*\u001b[39m\u001b[39m*\u001b[39m\u001b[39m2\u001b[39m \u001b[39m-\u001b[39m \u001b[39m1\u001b[39m)\u001b[39m*\u001b[39m\u001b[39m*\u001b[39m\u001b[39m13\u001b[39m \u001b[39m+\u001b[39m (\u001b[39m2080574177816251222875\u001b[39m\u001b[39m/\u001b[39m\u001b[39m4194304\u001b[39m)\u001b[39m*\u001b[39mx\u001b[39m*\u001b[39m\u001b[39m*\u001b[39m\u001b[39m21\u001b[39m\u001b[39m*\u001b[39m(x\u001b[39m*\u001b[39m\u001b[39m*\u001b[39m\u001b[39m2\u001b[39m \u001b[39m-\u001b[39m \u001b[39m1\u001b[39m)\u001b[39m*\u001b[39m\u001b[39m*\u001b[39m\u001b[39m14\u001b[39m \u001b[39m+\u001b[39m (\u001b[39m14564019244713758560125\u001b[39m\u001b[39m/\u001b[39m\u001b[39m67108864\u001b[39m)\u001b[39m*\u001b[39mx\u001b[39m*\u001b[39m\u001b[39m*\u001b[39m\u001b[39m19\u001b[39m\u001b[39m*\u001b[39m(x\u001b[39m*\u001b[39m\u001b[39m*\u001b[39m\u001b[39m2\u001b[39m \u001b[39m-\u001b[39m \u001b[39m1\u001b[39m)\u001b[39m*\u001b[39m\u001b[39m*\u001b[39m\u001b[39m15\u001b[39m \u001b[39m+\u001b[39m (\u001b[39m146496899461532512575375\u001b[39m\u001b[39m/\u001b[39m\u001b[39m2147483648\u001b[39m)\u001b[39m*\u001b[39mx\u001b[39m*\u001b[39m\u001b[39m*\u001b[39m\u001b[39m17\u001b[39m\u001b[39m*\u001b[39m(x\u001b[39m*\u001b[39m\u001b[39m*\u001b[39m\u001b[39m2\u001b[39m \u001b[39m-\u001b[39m \u001b[39m1\u001b[39m)\u001b[39m*\u001b[39m\u001b[39m*\u001b[39m\u001b[39m16\u001b[39m \u001b[39m+\u001b[39m (\u001b[39m16277433273503612508375\u001b[39m\u001b[39m/\u001b[39m\u001b[39m1073741824\u001b[39m)\u001b[39m*\u001b[39mx\u001b[39m*\u001b[39m\u001b[39m*\u001b[39m\u001b[39m15\u001b[39m\u001b[39m*\u001b[39m(x\u001b[39m*\u001b[39m\u001b[39m*\u001b[39m\u001b[39m2\u001b[39m \u001b[39m-\u001b[39m \u001b[39m1\u001b[39m)\u001b[39m*\u001b[39m\u001b[39m*\u001b[39m\u001b[39m17\u001b[39m \u001b[39m+\u001b[39m (\u001b[39m9994915167940814698125\u001b[39m\u001b[39m/\u001b[39m\u001b[39m4294967296\u001b[39m)\u001b[39m*\u001b[39mx\u001b[39m*\u001b[39m\u001b[39m*\u001b[39m\u001b[39m13\u001b[39m\u001b[39m*\u001b[39m(x\u001b[39m*\u001b[39m\u001b[39m*\u001b[39m\u001b[39m2\u001b[39m \u001b[39m-\u001b[39m \u001b[39m1\u001b[39m)\u001b[39m*\u001b[39m\u001b[39m*\u001b[39m\u001b[39m18\u001b[39m \u001b[39m+\u001b[39m (\u001b[39m4103175700523071297125\u001b[39m\u001b[39m/\u001b[39m\u001b[39m17179869184\u001b[39m)\u001b[39m*\u001b[39mx\u001b[39m*\u001b[39m\u001b[39m*\u001b[39m\u001b[39m11\u001b[39m\u001b[39m*\u001b[39m(x\u001b[39m*\u001b[39m\u001b[39m*\u001b[39m\u001b[39m2\u001b[39m \u001b[39m-\u001b[39m \u001b[39m1\u001b[39m)\u001b[39m*\u001b[39m\u001b[39m*\u001b[39m\u001b[39m19\u001b[39m \u001b[39m+\u001b[39m (\u001b[39m2149282509797799250875\u001b[39m\u001b[39m/\u001b[39m\u001b[39m137438953472\u001b[39m)\u001b[39m*\u001b[39mx\u001b[39m*\u001b[39m\u001b[39m*\u001b[39m\u001b[39m9\u001b[39m\u001b[39m*\u001b[39m(x\u001b[39m*\u001b[39m\u001b[39m*\u001b[39m\u001b[39m2\u001b[39m \u001b[39m-\u001b[39m \u001b[39m1\u001b[39m)\u001b[39m*\u001b[39m\u001b[39m*\u001b[39m\u001b[39m20\u001b[39m \u001b[39m+\u001b[39m (\u001b[39m83738279602511659125\u001b[39m\u001b[39m/\u001b[39m\u001b[39m137438953472\u001b[39m)\u001b[39m*\u001b[39mx\u001b[39m*\u001b[39m\u001b[39m*\u001b[39m\u001b[39m7\u001b[39m\u001b[39m*\u001b[39m(x\u001b[39m*\u001b[39m\u001b[39m*\u001b[39m\u001b[39m2\u001b[39m \u001b[39m-\u001b[39m \u001b[39m1\u001b[39m)\u001b[39m*\u001b[39m\u001b[39m*\u001b[39m\u001b[39m21\u001b[39m \u001b[39m+\u001b[39m (\u001b[39m6950608188350770125\u001b[39m\u001b[39m/\u001b[39m\u001b[39m549755813888\u001b[39m)\u001b[39m*\u001b[39mx\u001b[39m*\u001b[39m\u001b[39m*\u001b[39m\u001b[39m5\u001b[39m\u001b[39m*\u001b[39m(x\u001b[39m*\u001b[39m\u001b[39m*\u001b[39m\u001b[39m2\u001b[39m \u001b[39m-\u001b[39m \u001b[39m1\u001b[39m)\u001b[39m*\u001b[39m\u001b[39m*\u001b[39m\u001b[39m22\u001b[39m \u001b[39m+\u001b[39m (\u001b[39m503667260025418125\u001b[39m\u001b[39m/\u001b[39m\u001b[39m4398046511104\u001b[39m)\u001b[39m*\u001b[39mx\u001b[39m*\u001b[39m\u001b[39m*\u001b[39m\u001b[39m3\u001b[39m\u001b[39m*\u001b[39m(x\u001b[39m*\u001b[39m\u001b[39m*\u001b[39m\u001b[39m2\u001b[39m \u001b[39m-\u001b[39m \u001b[39m1\u001b[39m)\u001b[39m*\u001b[39m\u001b[39m*\u001b[39m\u001b[39m23\u001b[39m \u001b[39m+\u001b[39m (\u001b[39m20146690401016725\u001b[39m\u001b[39m/\u001b[39m\u001b[39m70368744177664\u001b[39m)\u001b[39m*\u001b[39mx\u001b[39m*\u001b[39m(x\u001b[39m*\u001b[39m\u001b[39m*\u001b[39m\u001b[39m2\u001b[39m \u001b[39m-\u001b[39m \u001b[39m1\u001b[39m)\u001b[39m*\u001b[39m\u001b[39m*\u001b[39m\u001b[39m24\u001b[39m\n",
      "\u001b[1;31mKeyboardInterrupt\u001b[0m: "
     ]
    }
   ],
   "source": [
    "def IntegralLegendre(f,n):\n",
    "    sum=0\n",
    "    for k in range(n):\n",
    "        Raices=GetAllRoots(n,xn, Legendre, DLegendre)\n",
    "        Pesos=GetWeights(Raices,DLegendre)\n",
    "        sum+= Pesos[k]*f(Raices[k])\n",
    "    return sum\n",
    "\n",
    "res=IntegralLegendre(f,50)\n",
    "res\n"
   ]
  },
  {
   "cell_type": "code",
   "execution_count": null,
   "metadata": {},
   "outputs": [
    {
     "data": {
      "text/plain": [
       "32.666666663454"
      ]
     },
     "execution_count": 135,
     "metadata": {},
     "output_type": "execute_result"
    }
   ],
   "source": [
    "def Integral_a_b(f,a,b,n):\n",
    "    sum=0\n",
    "    for k in range (n):\n",
    "        Raices=GetAllRoots(n,xn, Legendre, DLegendre)\n",
    "        Pesos=GetWeights(Raices,DLegendre)\n",
    "        ev=(Raices[k]*(b-a)+b+a)/2\n",
    "        sum+= Pesos[k]*f(ev)\n",
    "    multiplicador=(b-a)/2\n",
    "    salida=multiplicador*sum\n",
    "    return salida\n",
    "ress=Integral_a_b(f,3,5,50)\n",
    "ress"
   ]
  }
 ],
 "metadata": {
  "kernelspec": {
   "display_name": "Python 3",
   "language": "python",
   "name": "python3"
  },
  "language_info": {
   "codemirror_mode": {
    "name": "ipython",
    "version": 3
   },
   "file_extension": ".py",
   "mimetype": "text/x-python",
   "name": "python",
   "nbconvert_exporter": "python",
   "pygments_lexer": "ipython3",
   "version": "3.11.5"
  },
  "orig_nbformat": 4
 },
 "nbformat": 4,
 "nbformat_minor": 2
}
