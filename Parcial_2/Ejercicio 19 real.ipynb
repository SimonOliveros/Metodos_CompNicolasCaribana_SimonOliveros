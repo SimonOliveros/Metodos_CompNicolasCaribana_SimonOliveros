{
 "cells": [
  {
   "cell_type": "code",
   "execution_count": 13,
   "metadata": {},
   "outputs": [],
   "source": [
    "import numpy as np\n",
    "import sympy as sym\n",
    "import math as math\n",
    "import matplotlib.pyplot as plt\n",
    "\n",
    "x = sym.Symbol('x',real=True)\n",
    "y = sym.Symbol('y',real=True)\n",
    "\n",
    "def Function(T, Tam_Banda,x):\n",
    "    return (np.tanh(np.sqrt(x**2+Tam_Banda**2)*300/2*T))/np.sqrt(x**2+Tam_Banda**2)\n",
    "\n",
    "n=50\n",
    "\n"
   ]
  },
  {
   "cell_type": "code",
   "execution_count": 14,
   "metadata": {},
   "outputs": [],
   "source": [
    "def GetLegendre(n,x,y):\n",
    "    \n",
    "    y = (x**2 - 1)**n\n",
    "    \n",
    "    poly = sym.diff( y,x,n )/(2**n*np.math.factorial(n))\n",
    "    \n",
    "    return poly"
   ]
  },
  {
   "cell_type": "code",
   "execution_count": 15,
   "metadata": {},
   "outputs": [
    {
     "name": "stderr",
     "output_type": "stream",
     "text": [
      "C:\\Users\\simon\\AppData\\Local\\Temp\\ipykernel_196\\3349966814.py:5: DeprecationWarning: `np.math` is a deprecated alias for the standard library `math` module (Deprecated Numpy 1.25). Replace usages of `np.math` with `math`\n",
      "  poly = sym.diff( y,x,n )/(2**n*np.math.factorial(n))\n"
     ]
    }
   ],
   "source": [
    "Legendre = []\n",
    "DLegendre = []\n",
    "\n",
    "for i in range(n+1):\n",
    "    Poly = GetLegendre(i,x,y)\n",
    "    Legendre.append(Poly)\n",
    "    DLegendre.append(sym.diff(Poly,x,1))"
   ]
  },
  {
   "cell_type": "code",
   "execution_count": 16,
   "metadata": {},
   "outputs": [],
   "source": [
    "def GetNewton(f,df,xn,itmax=10000,precision=1e-14):\n",
    "    \n",
    "    error = 1.\n",
    "    it = 0\n",
    "    \n",
    "    while error >= precision and it < itmax:\n",
    "        \n",
    "        try:\n",
    "            \n",
    "            xn1 = xn - f(xn)/df(xn)\n",
    "            \n",
    "            error = np.abs(f(xn)/df(xn))\n",
    "            \n",
    "        except ZeroDivisionError:\n",
    "            print('Zero Division')\n",
    "            \n",
    "        xn = xn1\n",
    "        it += 1\n",
    "        \n",
    "    if it == itmax:\n",
    "        return False\n",
    "    else:\n",
    "        return xn"
   ]
  },
  {
   "cell_type": "code",
   "execution_count": 17,
   "metadata": {},
   "outputs": [],
   "source": [
    "def GetRoots(f,df,x,tolerancia = 10):\n",
    "    \n",
    "    Roots = np.array([])\n",
    "    \n",
    "    for i in x:\n",
    "        \n",
    "        root = GetNewton(f,df,i)\n",
    "        \n",
    "        if root != False:\n",
    "            \n",
    "            croot = np.round( root, tolerancia )\n",
    "            \n",
    "            if croot not in Roots:\n",
    "                Roots = np.append(Roots, croot)\n",
    "                \n",
    "    Roots.sort()\n",
    "    \n",
    "    return Roots"
   ]
  },
  {
   "cell_type": "code",
   "execution_count": 18,
   "metadata": {},
   "outputs": [],
   "source": [
    "def GetAllRoots(n,xn,Legendre,DLegendre):\n",
    "    \n",
    "    poly = sym.lambdify([x],Legendre[n],'numpy')\n",
    "    Dpoly = sym.lambdify([x],DLegendre[n],'numpy')\n",
    "    Roots = GetRoots(poly,Dpoly,xn)\n",
    "    \n",
    "    return Roots"
   ]
  },
  {
   "cell_type": "code",
   "execution_count": 19,
   "metadata": {},
   "outputs": [
    {
     "data": {
      "text/plain": [
       "array([-0.9988664 , -0.95661096, -0.93665662, -0.91307856, -0.88596798,\n",
       "       -0.85542977, -0.82158207, -0.60770293, -0.5571583 , -0.50445814,\n",
       "       -0.44980634, -0.39341431, -0.33550025, -0.27628819, -0.21600724,\n",
       "       -0.15489059, -0.0931747 , -0.03109834,  0.03109834,  0.0931747 ,\n",
       "        0.15489059,  0.21600724,  0.27628819,  0.33550025,  0.39341431,\n",
       "        0.44980634,  0.50445814,  0.5571583 ,  0.65589647,  0.70155247,\n",
       "        0.7444943 ,  0.82158207,  0.85542977,  0.88596798,  0.91307856,\n",
       "        0.93665662,  0.95661096,  0.9988664 ])"
      ]
     },
     "execution_count": 19,
     "metadata": {},
     "output_type": "execute_result"
    }
   ],
   "source": [
    "\n",
    "xn = np.linspace(-1,1,100)\n",
    "Roots1 = GetAllRoots(n,xn,Legendre,DLegendre)\n",
    "Roots1"
   ]
  },
  {
   "cell_type": "code",
   "execution_count": 20,
   "metadata": {},
   "outputs": [],
   "source": [
    "def GetWeights(Roots,DLegendre):\n",
    "    \n",
    "    Dpoly = sym.lambdify([x],DLegendre[n],'numpy')\n",
    "    Weights = 2/((1-Roots**2)*Dpoly(Roots)**2)\n",
    "    \n",
    "    return Weights\n"
   ]
  },
  {
   "cell_type": "code",
   "execution_count": 21,
   "metadata": {},
   "outputs": [
    {
     "data": {
      "text/plain": [
       "array([0.00290862, 0.01811556, 0.02178024, 0.02536067, 0.02884299,\n",
       "       0.03221373, 0.03545984, 0.04940094, 0.0516557 , 0.05371062,\n",
       "       0.05555774, 0.05718993, 0.05860085, 0.05978506, 0.06073797,\n",
       "       0.0614559 , 0.06193607, 0.06217662, 0.06217662, 0.06193607,\n",
       "       0.0614559 , 0.06073797, 0.05978506, 0.05860085, 0.05718993,\n",
       "       0.05555774, 0.05371062, 0.0516557 , 0.04695505, 0.0443275 ,\n",
       "       0.04152846, 0.03545984, 0.03221373, 0.02884299, 0.02536067,\n",
       "       0.02178024, 0.01811556, 0.00290862])"
      ]
     },
     "execution_count": 21,
     "metadata": {},
     "output_type": "execute_result"
    }
   ],
   "source": [
    "Pesos=GetWeights(Roots1,DLegendre)\n",
    "Pesos"
   ]
  },
  {
   "cell_type": "code",
   "execution_count": 38,
   "metadata": {},
   "outputs": [
    {
     "data": {
      "text/plain": [
       "array([ 1.    ,  1.0001,  1.0002, ..., 19.9998, 19.9999, 20.    ])"
      ]
     },
     "execution_count": 38,
     "metadata": {},
     "output_type": "execute_result"
    }
   ],
   "source": [
    "\n",
    "dT=np.linspace(1,20,190001)\n",
    "\n",
    "f= lambda x: x**2\n",
    "len(Pesos)\n",
    "dT"
   ]
  },
  {
   "cell_type": "code",
   "execution_count": 26,
   "metadata": {},
   "outputs": [],
   "source": [
    "def IntegralLegendre(f,n):\n",
    "    Roots,Weights=np.polynomial.legendre.leggauss(n)\n",
    "    return np.sum(Weights*f(Roots))\n",
    "\n",
    "\n"
   ]
  },
  {
   "cell_type": "code",
   "execution_count": 49,
   "metadata": {},
   "outputs": [
    {
     "data": {
      "text/plain": [
       "0"
      ]
     },
     "execution_count": 49,
     "metadata": {},
     "output_type": "execute_result"
    }
   ],
   "source": [
    "\n",
    "for T in dT:\n",
    "    function=lambda x: (np.tanh(np.sqrt(x**2+0.0001**2)*300/(2*T)))/np.sqrt(x**2+0.0001**2)\n",
    "    I=IntegralLegendre(function,10)\n",
    "    if np.abs(I-1/0.3) <0.01 :\n",
    "        Tc=T\n",
    "Tc\n",
    "        \n",
    "\n",
    "    \n"
   ]
  },
  {
   "cell_type": "code",
   "execution_count": 42,
   "metadata": {},
   "outputs": [
    {
     "data": {
      "text/plain": [
       "0"
      ]
     },
     "execution_count": 42,
     "metadata": {},
     "output_type": "execute_result"
    }
   ],
   "source": [
    "Tc"
   ]
  },
  {
   "cell_type": "code",
   "execution_count": null,
   "metadata": {},
   "outputs": [
    {
     "data": {
      "text/plain": [
       "32.666666663454"
      ]
     },
     "execution_count": 135,
     "metadata": {},
     "output_type": "execute_result"
    }
   ],
   "source": [
    "def Integral_a_b(f,a,b,n):\n",
    "    sum=0\n",
    "    for k in range (n):\n",
    "        Raices=GetAllRoots(n,xn, Legendre, DLegendre)\n",
    "        Pesos=GetWeights(Raices,DLegendre)\n",
    "        ev=(Raices[k]*(b-a)+b+a)/2\n",
    "        sum+= Pesos[k]*f(ev)\n",
    "    multiplicador=(b-a)/2\n",
    "    salida=multiplicador*sum\n",
    "    return salida\n",
    "ress=Integral_a_b(f,3,5,50)\n",
    "ress"
   ]
  }
 ],
 "metadata": {
  "kernelspec": {
   "display_name": "Python 3",
   "language": "python",
   "name": "python3"
  },
  "language_info": {
   "codemirror_mode": {
    "name": "ipython",
    "version": 3
   },
   "file_extension": ".py",
   "mimetype": "text/x-python",
   "name": "python",
   "nbconvert_exporter": "python",
   "pygments_lexer": "ipython3",
   "version": "3.11.5"
  },
  "orig_nbformat": 4
 },
 "nbformat": 4,
 "nbformat_minor": 2
}
