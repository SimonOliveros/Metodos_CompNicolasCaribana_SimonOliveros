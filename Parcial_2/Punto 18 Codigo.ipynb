{
 "cells": [
  {
   "cell_type": "code",
   "execution_count": 1,
   "metadata": {},
   "outputs": [],
   "source": [
    "import numpy as np\n",
    "import sympy as sym\n",
    "import math as math\n",
    "import matplotlib.pyplot as pl"
   ]
  },
  {
   "cell_type": "code",
   "execution_count": 34,
   "metadata": {},
   "outputs": [],
   "source": [
    "x = sym.Symbol('x',real=True)\n",
    "\n",
    "def GetNewton(f,df,xn,itmax=10000,precision=1e-14):\n",
    "    \n",
    "    error = 1.\n",
    "    it = 0\n",
    "    \n",
    "    while error >= precision and it < itmax:\n",
    "        \n",
    "        try:\n",
    "            \n",
    "            xn1 = xn - f(xn)/df(xn)\n",
    "            \n",
    "            error = np.abs(f(xn)/df(xn))\n",
    "            \n",
    "        except ZeroDivisionError:\n",
    "            print('Zero Division')\n",
    "            \n",
    "        xn = xn1\n",
    "        it += 1\n",
    "        \n",
    "    if it == itmax:\n",
    "        return False\n",
    "    else:\n",
    "        return xn\n",
    "    \n",
    "\n",
    "def GetRoots(f,df,x,tolerancia = 10):\n",
    "    \n",
    "    Roots = np.array([])\n",
    "    \n",
    "    for i in x:\n",
    "        \n",
    "        root = GetNewton(f,df,i)\n",
    "\n",
    "        if  type(root)!=bool:\n",
    "            croot = np.round( root, tolerancia )\n",
    "            \n",
    "            if croot not in Roots:\n",
    "                Roots = np.append(Roots, croot)\n",
    "                \n",
    "    Roots.sort()\n",
    "    \n",
    "    return Roots\n",
    "def GetHermiteRecursive(n,x):\n",
    "\n",
    "    if n==0:\n",
    "        poly = sym.Number(1)\n",
    "    elif n==1:\n",
    "        poly = 2*x\n",
    "    else:\n",
    "        poly = (2*x*GetHermiteRecursive(n-1,x))-(2*(n-1)*GetHermiteRecursive(n-2,x))\n",
    "   \n",
    "    return sym.expand(poly,x)\n",
    "\n",
    "def GetDHermite(n,x):\n",
    "    Poly=GetHermiteRecursive(n,x)\n",
    "    return sym.diff(Poly,x,1)\n",
    "\n",
    "\n",
    "def GetAllRootsGHermite(n):\n",
    "    N= (4*n+1)**(1/2)\n",
    "\n",
    "    xn = np.linspace(-N,N,300)\n",
    "    \n",
    "    Hermite = []\n",
    "    DHermite = []\n",
    "    \n",
    "    for i in range(n+1):\n",
    "        Hermite.append(GetHermiteRecursive(i,x))\n",
    "        DHermite.append(GetDHermite(i,x))\n",
    "    \n",
    "    poly = sym.lambdify([x],Hermite[n],'numpy')\n",
    "    Dpoly = sym.lambdify([x],DHermite[n],'numpy')\n",
    "    Roots = GetRoots(poly,Dpoly,xn)\n",
    "\n",
    "    if len(Roots) != n:\n",
    "        ValueError('El número de raíces debe ser igual al n del polinomio.')\n",
    "    \n",
    "    return Roots\n",
    "\n",
    "def GetWeightsGHer(n):\n",
    "\n",
    "    Roots = GetAllRootsGHermite(n)\n",
    "    \n",
    "\n",
    "    PolyHermite= sym.lambdify([x],GetHermiteRecursive(n-1,x),'numpy')\n",
    "\n",
    "\n",
    "\n",
    "    Weights = ((2**(n-1))*math.factorial(n)*((np.pi)**(1/2)))/((n**2)*(PolyHermite(Roots))**2)\n",
    "    \n",
    "    return Weights\n"
   ]
  },
  {
   "cell_type": "code",
   "execution_count": 38,
   "metadata": {},
   "outputs": [],
   "source": [
    "raices=GetAllRootsGHermite(20)"
   ]
  },
  {
   "cell_type": "code",
   "execution_count": 39,
   "metadata": {},
   "outputs": [],
   "source": [
    "pesos=GetWeightsGHer(20)"
   ]
  },
  {
   "cell_type": "code",
   "execution_count": 42,
   "metadata": {},
   "outputs": [
    {
     "data": {
      "text/plain": [
       "(array([-5.38748089, -4.60368245, -3.94476404, -3.34785457, -2.78880606,\n",
       "        -2.254974  , -1.73853771, -1.23407622, -0.73747373, -0.24534071,\n",
       "         0.24534071,  0.73747373,  1.23407622,  1.73853771,  2.254974  ,\n",
       "         2.78880606,  3.34785457,  3.94476404,  4.60368245,  5.38748089]),\n",
       " array([2.22939365e-13, 4.39934099e-10, 1.08606937e-07, 7.80255648e-06,\n",
       "        2.28338636e-04, 3.24377334e-03, 2.48105209e-02, 1.09017206e-01,\n",
       "        2.86675505e-01, 4.62243670e-01, 4.62243670e-01, 2.86675505e-01,\n",
       "        1.09017206e-01, 2.48105209e-02, 3.24377334e-03, 2.28338636e-04,\n",
       "        7.80255648e-06, 1.08606937e-07, 4.39934099e-10, 2.22939365e-13]))"
      ]
     },
     "execution_count": 42,
     "metadata": {},
     "output_type": "execute_result"
    }
   ],
   "source": [
    "np.polynomial.hermite.hermgauss(20)"
   ]
  },
  {
   "cell_type": "code",
   "execution_count": 48,
   "metadata": {},
   "outputs": [
    {
     "data": {
      "text/plain": [
       "1.5000000000066762"
      ]
     },
     "execution_count": 48,
     "metadata": {},
     "output_type": "execute_result"
    }
   ],
   "source": [
    "I=0\n",
    "f= lambda x: 2*np.sqrt(1/(np.pi))*x**4\n",
    "for i in range(len(pesos)):\n",
    "    I+=pesos[i]*f(raices[i])\n",
    "I"
   ]
  }
 ],
 "metadata": {
  "kernelspec": {
   "display_name": "Python 3",
   "language": "python",
   "name": "python3"
  },
  "language_info": {
   "codemirror_mode": {
    "name": "ipython",
    "version": 3
   },
   "file_extension": ".py",
   "mimetype": "text/x-python",
   "name": "python",
   "nbconvert_exporter": "python",
   "pygments_lexer": "ipython3",
   "version": "3.9.13"
  },
  "orig_nbformat": 4
 },
 "nbformat": 4,
 "nbformat_minor": 2
}
