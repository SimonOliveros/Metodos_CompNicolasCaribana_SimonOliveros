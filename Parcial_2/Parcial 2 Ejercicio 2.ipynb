{
 "cells": [
  {
   "cell_type": "code",
   "execution_count": 155,
   "metadata": {},
   "outputs": [],
   "source": [
    "import numpy as np\n",
    "import sympy as sym\n",
    "import math as math\n",
    "import matplotlib.pyplot as plt\n",
    "\n",
    "x = sym.Symbol('x',real=True)\n",
    "y = sym.Symbol('y',real=True)"
   ]
  },
  {
   "cell_type": "code",
   "execution_count": 156,
   "metadata": {},
   "outputs": [],
   "source": [
    "#Método para encontrar la integral numerador: Cuadratura Gauss-Legendre\n",
    "#Método para encontrar la integral denominador : Cuadratura Gauss-Laguerre"
   ]
  },
  {
   "cell_type": "code",
   "execution_count": 157,
   "metadata": {},
   "outputs": [],
   "source": [
    "Roots,Weights=np.polynomial.legendre.leggauss(20)"
   ]
  },
  {
   "cell_type": "code",
   "execution_count": 158,
   "metadata": {},
   "outputs": [
    {
     "data": {
      "text/plain": [
       "array([-0.9931286 , -0.96397193, -0.91223443, -0.83911697, -0.74633191,\n",
       "       -0.63605368, -0.510867  , -0.37370609, -0.22778585, -0.07652652,\n",
       "        0.07652652,  0.22778585,  0.37370609,  0.510867  ,  0.63605368,\n",
       "        0.74633191,  0.83911697,  0.91223443,  0.96397193,  0.9931286 ])"
      ]
     },
     "execution_count": 158,
     "metadata": {},
     "output_type": "execute_result"
    }
   ],
   "source": [
    "Roots"
   ]
  },
  {
   "cell_type": "code",
   "execution_count": 159,
   "metadata": {},
   "outputs": [
    {
     "data": {
      "text/plain": [
       "array([0.01761401, 0.04060143, 0.06267205, 0.08327674, 0.10193012,\n",
       "       0.11819453, 0.13168864, 0.14209611, 0.14917299, 0.15275339,\n",
       "       0.15275339, 0.14917299, 0.14209611, 0.13168864, 0.11819453,\n",
       "       0.10193012, 0.08327674, 0.06267205, 0.04060143, 0.01761401])"
      ]
     },
     "execution_count": 159,
     "metadata": {},
     "output_type": "execute_result"
    }
   ],
   "source": [
    "Weights"
   ]
  },
  {
   "cell_type": "code",
   "execution_count": 160,
   "metadata": {},
   "outputs": [
    {
     "data": {
      "text/plain": [
       "24.944712037280482"
      ]
     },
     "execution_count": 160,
     "metadata": {},
     "output_type": "execute_result"
    }
   ],
   "source": [
    "b=(((3*10**8)/(100*10**-9))*6.626*10**-34)/((1.3806*10**-23)*(5772))\n",
    "b"
   ]
  },
  {
   "cell_type": "code",
   "execution_count": 161,
   "metadata": {},
   "outputs": [
    {
     "data": {
      "text/plain": [
       "6.2361780093201205"
      ]
     },
     "execution_count": 161,
     "metadata": {},
     "output_type": "execute_result"
    }
   ],
   "source": [
    "a=(((3*10**8)/(400*10**-9))*6.626*10**-34)/((1.3806*10**-23)*(5772))\n",
    "a"
   ]
  },
  {
   "cell_type": "code",
   "execution_count": 162,
   "metadata": {},
   "outputs": [],
   "source": [
    "f1= lambda x: x**3/((np.e**x)-1)"
   ]
  },
  {
   "cell_type": "code",
   "execution_count": 163,
   "metadata": {},
   "outputs": [],
   "source": [
    "def Integral_a_b(f,a,b,n):\n",
    "    sum=0\n",
    "    for k in range (n):\n",
    "        Raices=Roots\n",
    "        Pesos=Weights\n",
    "        ev=(Raices[k]*(b-a)+b+a)/2\n",
    "        sum+= Pesos[k]*f(ev)\n",
    "    multiplicador=(b-a)/2\n",
    "    salida=multiplicador*sum\n",
    "    return salida"
   ]
  },
  {
   "cell_type": "code",
   "execution_count": 164,
   "metadata": {},
   "outputs": [
    {
     "data": {
      "text/plain": [
       "0.7886360406075117"
      ]
     },
     "execution_count": 164,
     "metadata": {},
     "output_type": "execute_result"
    }
   ],
   "source": [
    "Integral_a_b(f1,a,b,20)\n"
   ]
  },
  {
   "cell_type": "code",
   "execution_count": 165,
   "metadata": {},
   "outputs": [],
   "source": [
    "RootsH,WeightsH=np.polynomial.hermite.hermgauss(20)"
   ]
  },
  {
   "cell_type": "code",
   "execution_count": 166,
   "metadata": {},
   "outputs": [
    {
     "data": {
      "text/plain": [
       "6.493939402219589"
      ]
     },
     "execution_count": 166,
     "metadata": {},
     "output_type": "execute_result"
    }
   ],
   "source": [
    "f= lambda x: x**3/(1-(1/np.exp(x)))\n",
    "def Laguerre(n):\n",
    "    Roots,Weights=np.polynomial.laguerre.laggauss(n)\n",
    "    suma= np.sum(Weights*f(Roots))\n",
    "    return suma\n",
    "\n",
    "Laguerre(20)\n",
    "\n"
   ]
  },
  {
   "cell_type": "code",
   "execution_count": 167,
   "metadata": {},
   "outputs": [
    {
     "data": {
      "text/plain": [
       "0.12144185397510186"
      ]
     },
     "execution_count": 167,
     "metadata": {},
     "output_type": "execute_result"
    }
   ],
   "source": [
    "Resultado=0.7886360406075117/6.493939402219589\n",
    "Resultado"
   ]
  },
  {
   "cell_type": "code",
   "execution_count": 168,
   "metadata": {},
   "outputs": [],
   "source": [
    "#Podemos ver que efectivamente el resultado es más o menos 12%"
   ]
  },
  {
   "cell_type": "markdown",
   "metadata": {},
   "source": [
    "La diferencia entre el porcentaje calculado y el porcentaje que se recibe en Bogotá se debe a que la capa de ozono dispersa en su totalidadad la ondas tipo C (cortas), que tienen longitud de onda entre 280-100 y parcialmente las tipo B de longitud 315-280 (ondas medias) por lo que un minimo porcentaje de esas ondas llegan a la tierra. No es el caso de las ondas tipo A  de longitud de onda 400-315(largas) de las que proviene principalmente la radiación. ultravioleta.\n"
   ]
  },
  {
   "cell_type": "code",
   "execution_count": 169,
   "metadata": {},
   "outputs": [],
   "source": [
    "def GetLaguerreRecursive(n,x):\n",
    "\n",
    "    if n==0:\n",
    "        poly = sym.Number(1)\n",
    "    elif n==1:\n",
    "        poly = 1-x\n",
    "    else:\n",
    "        poly = ((2*(n-1)+1-x)*GetLaguerreRecursive(n-1,x)-(n-1)*GetLaguerreRecursive(n-2,x))/n\n",
    "   \n",
    "    return sym.expand(poly, x)\n"
   ]
  },
  {
   "cell_type": "code",
   "execution_count": 170,
   "metadata": {},
   "outputs": [
    {
     "data": {
      "text/latex": [
       "$\\displaystyle \\frac{x^{2}}{2} - 2 x + 1$"
      ],
      "text/plain": [
       "x**2/2 - 2*x + 1"
      ]
     },
     "execution_count": 170,
     "metadata": {},
     "output_type": "execute_result"
    }
   ],
   "source": [
    "GetLaguerreRecursive(2,x)"
   ]
  },
  {
   "cell_type": "code",
   "execution_count": 171,
   "metadata": {},
   "outputs": [],
   "source": [
    "def GetLaguerreRecursive(n,x):\n",
    "\n",
    "    if n==0:\n",
    "        poly = sym.Number(1)\n",
    "    elif n==1:\n",
    "        poly = 1-x\n",
    "    else:\n",
    "        poly = ((2*(n-1)+1-x)*GetLaguerreRecursive(n-1,x)-(n-1)*GetLaguerreRecursive(n-2,x))/n\n",
    "   \n",
    "    return sym.expand(poly, x)\n",
    "\n",
    "\n",
    "\n",
    "\n",
    "def GetDLaguerre(n,x):\n",
    "    Pn = GetLaguerreRecursive(n,x)\n",
    "    return sym.diff(Pn,x,1)\n",
    "\n",
    "def GetNewton(f,df,xn,itmax=10000,precision=1e-14):\n",
    "    \n",
    "    error = 1.\n",
    "    it = 0\n",
    "    \n",
    "    while error >= precision and it < itmax:\n",
    "        \n",
    "        try:\n",
    "            \n",
    "            xn1 = xn - f(xn)/df(xn)\n",
    "            \n",
    "            error = np.abs(f(xn)/df(xn))\n",
    "            \n",
    "        except ZeroDivisionError:\n",
    "            print('Zero Division')\n",
    "            \n",
    "        xn = xn1\n",
    "        it += 1\n",
    "        \n",
    "    if it == itmax:\n",
    "        return False\n",
    "    else:\n",
    "        return xn\n",
    "    \n",
    "\n",
    "def GetRoots(f,df,x,tolerancia = 10):\n",
    "    \n",
    "    Roots = np.array([])\n",
    "    \n",
    "    for i in x:\n",
    "        \n",
    "        root = GetNewton(f,df,i)\n",
    "\n",
    "        if  type(root)!=bool:\n",
    "            croot = np.round( root, tolerancia )\n",
    "            \n",
    "            if croot not in Roots:\n",
    "                Roots = np.append(Roots, croot)\n",
    "                \n",
    "    Roots.sort()\n",
    "    \n",
    "    return Roots\n",
    "\n",
    "def GetAllRootsGLag(n):\n",
    "    N=n+(n-1)*n**(1/2)\n",
    "\n",
    "    xn = np.linspace(0,N,300)\n",
    "    \n",
    "    Laguerre = []\n",
    "    DLaguerre = []\n",
    "    \n",
    "    for i in range(n+1):\n",
    "        Laguerre.append(GetLaguerreRecursive(i,x))\n",
    "        DLaguerre.append(GetDLaguerre(i,x))\n",
    "    \n",
    "    poly = sym.lambdify([x],Laguerre[n],'numpy')\n",
    "    Dpoly = sym.lambdify([x],DLaguerre[n],'numpy')\n",
    "    Roots = GetRoots(poly,Dpoly,xn)\n",
    "\n",
    "    if len(Roots) != n:\n",
    "        ValueError('El número de raíces debe ser igual al n del polinomio.')\n",
    "    \n",
    "    return Roots\n",
    "\n",
    "\n",
    "\n",
    "\n"
   ]
  },
  {
   "cell_type": "code",
   "execution_count": 172,
   "metadata": {},
   "outputs": [
    {
     "data": {
      "text/plain": [
       "array([0.58578644, 3.41421356])"
      ]
     },
     "execution_count": 172,
     "metadata": {},
     "output_type": "execute_result"
    }
   ],
   "source": [
    "RaicesGLag=GetAllRootsGLag(2)\n",
    "RaicesGLag"
   ]
  },
  {
   "cell_type": "code",
   "execution_count": 173,
   "metadata": {},
   "outputs": [
    {
     "data": {
      "text/plain": [
       "0.8535533911865556"
      ]
     },
     "execution_count": 173,
     "metadata": {},
     "output_type": "execute_result"
    }
   ],
   "source": [
    "f2= lambda x: (x-3.41421356)/(0.58578644-3.41421356)\n",
    "def Laguerre(n):\n",
    "    Roots,Weights=np.polynomial.laguerre.laggauss(n)\n",
    "    suma= np.sum(Weights*f2(Roots))\n",
    "    return suma\n",
    "\n",
    "Peso1=Laguerre(20)\n",
    "Peso1"
   ]
  },
  {
   "cell_type": "code",
   "execution_count": 174,
   "metadata": {},
   "outputs": [
    {
     "data": {
      "text/plain": [
       "0.14644660881344462"
      ]
     },
     "execution_count": 174,
     "metadata": {},
     "output_type": "execute_result"
    }
   ],
   "source": [
    "f3= lambda x: (x-0.58578644)/(3.41421356-0.58578644)\n",
    "def Laguerre(n):\n",
    "    Roots,Weights=np.polynomial.laguerre.laggauss(n)\n",
    "    suma= np.sum(Weights*f3(Roots))\n",
    "    return suma\n",
    "\n",
    "Peso2=Laguerre(20)\n",
    "Peso2"
   ]
  },
  {
   "cell_type": "code",
   "execution_count": 175,
   "metadata": {},
   "outputs": [
    {
     "data": {
      "text/plain": [
       "5.999999976621394"
      ]
     },
     "execution_count": 175,
     "metadata": {},
     "output_type": "execute_result"
    }
   ],
   "source": [
    "funcion= lambda x: x**3\n",
    "suma=Peso1*funcion(RaicesGLag[0])+Peso2*funcion(RaicesGLag[1])\n",
    "suma"
   ]
  },
  {
   "cell_type": "code",
   "execution_count": 177,
   "metadata": {},
   "outputs": [
    {
     "data": {
      "text/plain": [
       "3.896434286332351e-07"
      ]
     },
     "execution_count": 177,
     "metadata": {},
     "output_type": "execute_result"
    }
   ],
   "source": [
    "error=np.abs(((5.999999976621394-6)/6)*100)\n",
    "error"
   ]
  },
  {
   "cell_type": "code",
   "execution_count": null,
   "metadata": {},
   "outputs": [],
   "source": [
    "#Como podemos ver, se puede comprobar que se encuentra el resultado con error de 3.896434286332351e-07"
   ]
  }
 ],
 "metadata": {
  "kernelspec": {
   "display_name": "Python 3",
   "language": "python",
   "name": "python3"
  },
  "language_info": {
   "codemirror_mode": {
    "name": "ipython",
    "version": 3
   },
   "file_extension": ".py",
   "mimetype": "text/x-python",
   "name": "python",
   "nbconvert_exporter": "python",
   "pygments_lexer": "ipython3",
   "version": "3.11.5"
  },
  "orig_nbformat": 4
 },
 "nbformat": 4,
 "nbformat_minor": 2
}
