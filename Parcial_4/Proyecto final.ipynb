{
 "cells": [
  {
   "cell_type": "code",
   "execution_count": 57,
   "metadata": {},
   "outputs": [],
   "source": [
    "import numpy as np\n",
    "import matplotlib.pyplot as plt\n",
    "from IPython.display import clear_output\n",
    "import time\n",
    "import copy\n",
    "from tqdm import tqdm"
   ]
  },
  {
   "cell_type": "code",
   "execution_count": 58,
   "metadata": {},
   "outputs": [],
   "source": [
    "dt=0.1\n",
    "t=np.arange(0.,5.,dt)"
   ]
  },
  {
   "cell_type": "code",
   "execution_count": 59,
   "metadata": {},
   "outputs": [],
   "source": [
    "class Layer:\n",
    "    \n",
    "    \n",
    "    def __init__(self,NC,NN,NH,ActFun,rate=0.1): # Jugar con la tasa de mutacion\n",
    "        \n",
    "        self.NC = NC\n",
    "        self.NN = NN\n",
    "        self.NH= NH\n",
    "        self.ActFunc = ActFun\n",
    "        self.rate = rate\n",
    "        \n",
    "        \n",
    "        self.W = np.random.uniform( -10.,10.,(self.NC,self.NN) )\n",
    "        self.b = np.random.uniform( -10.,10.,(1,self.NN) )\n",
    "        \n",
    "    def Activation(self,x):\n",
    "        z = np.dot(x,self.W) + self.b\n",
    "        return self.ActFunc( z )[0]\n",
    "    \n",
    "    def Mutate(self):\n",
    "    \n",
    "        #self.W += np.random.normal( loc=0., scale=self.rate, size=(self.NC,self.NN))\n",
    "        #self.b += np.random.normal( loc=0., scale=self.rate, size=(1,self.NN))\n",
    "        \n",
    "        self.W += np.random.uniform( -self.rate, self.rate, size=(self.NC,self.NN))\n",
    "        self.b += np.random.uniform( -self.rate, self.rate, size=(1,self.NN))"
   ]
  },
  {
   "cell_type": "code",
   "execution_count": 60,
   "metadata": {},
   "outputs": [],
   "source": [
    "def GetBrain():\n",
    "    l0 = Layer(1,1,5,sigm)\n",
    "    \n",
    "    \n",
    "    Brain = [l0]\n",
    "    return Brain  "
   ]
  },
  {
   "cell_type": "code",
   "execution_count": 61,
   "metadata": {},
   "outputs": [],
   "source": [
    "sigm = lambda x: 1/(1+np.exp(-x))"
   ]
  },
  {
   "cell_type": "code",
   "execution_count": 62,
   "metadata": {},
   "outputs": [],
   "source": [
    "class Robot:\n",
    "    \n",
    "    def __init__(self, dt, Layers, Id=0):\n",
    "        \n",
    "        self.Id = Id\n",
    "        self.dt = dt\n",
    "        \n",
    "        \n",
    "        self.r = np.random.uniform([0.,0.])\n",
    "        self.v = np.array([1.,0])\n",
    "\n",
    "        \n",
    "        # Capacidad o aptitud del individuo\n",
    "        self.Fitness = np.inf\n",
    "        self.Steps = 0\n",
    "\n",
    "        # Brain\n",
    "        self.Layers = Layers\n",
    "        \n",
    "    def GetR(self):\n",
    "        return self.r\n",
    "    \n",
    "    def Evolution(self):\n",
    "        self.r += self.v*self.dt # Euler integration (Metodos 2)\n",
    "\n",
    "        # Cada generación regreamos el robot al origin\n",
    "        # Y volvemos a estimar su fitness\n",
    "    def Reset(self):\n",
    "        self.Steps = 0.\n",
    "        self.r = np.array([0.,0.])\n",
    "        self.Fitness = np.inf    \n",
    "        \n",
    "    # Aca debes definir que es mejorar en tu proceso evolutivo\n",
    "    def SetFitness(self):\n",
    "        self.Fitness = 0. # Esto no hace nada por ahora\n",
    "        \n",
    "        \n",
    "       # Brain stuff\n",
    "    def BrainActivation(self,x,threshold=0.7): \n",
    "        # El umbral (threshold) cerebral es a tu gusto!\n",
    "        # cercano a 1 es exigente\n",
    "        # cercano a 0 es sindrome de down\n",
    "        \n",
    "        # Forward pass - la infomación fluye por el modelo hacia adelante\n",
    "        for i in range(len(self.Layers)):         \n",
    "            if i == 0:\n",
    "                output = self.Layers[i].Activation(x)\n",
    "            else:\n",
    "                output = self.Layers[i].Activation(output)\n",
    "        \n",
    "        self.Activation = np.round(output,4)\n",
    "    \n",
    "        # Cambiamos el vector velocidad\n",
    "        if self.Activation[0] > threshold:\n",
    "            self.v = -self.v\n",
    "            \n",
    "            # Deberias penalizar de alguna forma, dado que mucha activación es desgastante!\n",
    "            # Para cualquier cerebro\n",
    "    \n",
    "        return self.Activation\n",
    "    \n",
    "    # Aca mutamos (cambiar de parametros) para poder \"aprender\"\n",
    "    def Mutate(self):\n",
    "        for i in range(len(self.Layers)):\n",
    "            self.Layers[i].Mutate()\n",
    "    \n",
    "    # Devolvemos la red neuronal ya entrenada\n",
    "    def GetBrain(self):\n",
    "        return self.Layers"
   ]
  },
  {
   "cell_type": "code",
   "execution_count": 63,
   "metadata": {},
   "outputs": [],
   "source": [
    "def GetRobots(N):\n",
    "    \n",
    "    Robots = []\n",
    "    \n",
    "    for i in range(N):\n",
    "        \n",
    "        Brain = GetBrain()\n",
    "        r = Robot(dt,Brain,Id=i)\n",
    "        Robots.append(r)\n",
    "        \n",
    "    return Robots"
   ]
  },
  {
   "cell_type": "code",
   "execution_count": 64,
   "metadata": {},
   "outputs": [],
   "source": [
    "Robots=GetRobots(200)"
   ]
  },
  {
   "cell_type": "code",
   "execution_count": 65,
   "metadata": {},
   "outputs": [
    {
     "data": {
      "text/plain": [
       "<__main__.Layer at 0x19ff0402dd0>"
      ]
     },
     "execution_count": 65,
     "metadata": {},
     "output_type": "execute_result"
    }
   ],
   "source": [
    "RedNeuronal=Layer(1,1,5,sigm)\n",
    "RedNeuronal\n"
   ]
  },
  {
   "cell_type": "code",
   "execution_count": 66,
   "metadata": {},
   "outputs": [
    {
     "data": {
      "text/plain": [
       "(<Axes: >, <Axes: >)"
      ]
     },
     "execution_count": 66,
     "metadata": {},
     "output_type": "execute_result"
    },
    {
     "data": {
      "image/png": "[encoded data removed]",
      "text/plain": [
       "<Figure size 800x400 with 2 Axes>"
      ]
     },
     "metadata": {},
     "output_type": "display_data"
    }
   ],
   "source": [
    "def GetPlot():\n",
    "    \n",
    "    fig = plt.figure(figsize=(8,4))\n",
    "    ax = fig.add_subplot(1,2,1)\n",
    "    ax1 = fig.add_subplot(1,2,2)\n",
    "    \n",
    "    ax.set_xlim(-1.,1.)\n",
    "    ax.set_ylim(-1.,1.)\n",
    " \n",
    "    return ax,ax1\n"
   ]
  },
  {
   "cell_type": "code",
   "execution_count": 67,
   "metadata": {},
   "outputs": [],
   "source": [
    "def TimeEvolution(Robots,e,Plot=True):\n",
    "    \n",
    "  \n",
    "    for it in range(t.shape[0]):\n",
    "        \n",
    "        if Plot:\n",
    "        \n",
    "            clear_output(wait=True)\n",
    "        \n",
    "            ax,ax1 = GetPlot()\n",
    "            ax1.set_ylim(0.,1.)\n",
    "        \n",
    "            ax.set_title('t = {:.3f}'.format(t[it]))\n",
    "        \n",
    "        Activation = np.zeros(len(Robots))\n",
    "        \n",
    "        for i,p in enumerate(Robots):\n",
    "            p.Evolution()\n",
    "         \n",
    "            # Activacion cerebral\n",
    "            Act = p.BrainActivation(p.GetR()[0])\n",
    "            Activation[i] = Act\n",
    "            # Region donde aumentamos los pasos para el fitness\n",
    "            \n",
    "                \n",
    "            if Plot and i < 5: # Solo pintamos los primeros 5, por tiempo de computo\n",
    "                ax.scatter(p.r[0],p.r[1],label='Id: {}, Steps: {:.0f}'.format(p.Id,p.Steps))\n",
    "                ax.quiver(p.r[0],p.r[1],p.v[0],p.v[1])\n",
    "                \n",
    "        # Pintamos la activaciones de los primeros 5\n",
    "        \n",
    "        if Plot:\n",
    "            ax1.plot(np.arange(0,len(Robots[:5]),1),Activation[:5],marker='o',color='b',label='Activation')\n",
    "            ax1.axhline(y=0.7,color='r')\n",
    "        \n",
    "        if Plot:\n",
    "        \n",
    "            ax.legend(loc=0)  \n",
    "            ax1.legend(loc=0)\n",
    "            plt.show()\n",
    "            time.sleep(0.001)"
   ]
  },
  {
   "cell_type": "code",
   "execution_count": 68,
   "metadata": {},
   "outputs": [],
   "source": [
    "# Definimos la rutina de entrenamiento\n",
    "def Genetic(Robots, epochs = 200, Plot = True, Plottime=False):\n",
    "    \n",
    "    # Porcentaje de robots elegidos en cada epoch\n",
    "    N = int(0.7*len(Robots))\n",
    "    \n",
    "    FitVector = np.array([])\n",
    "    \n",
    "    \n",
    "    x = np.linspace(-1,1,20)\n",
    "    Act = np.zeros_like(x)\n",
    "    \n",
    "    for e in range(int(epochs)):\n",
    "        \n",
    "        # Reiniciamos y mutamos los pesos\n",
    "        \n",
    "        for p in Robots:\n",
    "            p.Reset() \n",
    "            p.Mutate()\n",
    "            \n",
    "        # Evolucionamos\n",
    "        TimeEvolution(Robots,e,Plottime) # Apagar dibujar la evolución para entrenar\n",
    "        \n",
    "        # Actualizamos fitness de cada robot\n",
    "        for i,p in enumerate(Robots):\n",
    "            p.SetFitness()\n",
    "        \n",
    "        # Aca va toda la rutina de ordenar los bots del más apto al menos apto\n",
    "        \n",
    "        \n",
    "        # Guardamos el mejor fitness y le mejor robot\n",
    "        best_fitness = 0.\n",
    "        best_bot = Robots[0] #Esto no es asi, deben ver como se elige al mejor\n",
    "        \n",
    "        FitVector = np.append(FitVector,best_fitness)\n",
    "        \n",
    "        for i in range(len(x)):\n",
    "            Act[i] = best_bot.BrainActivation(x[i])\n",
    "        \n",
    "        clear_output(wait=True)\n",
    "        \n",
    "        print('Epoch:', e)\n",
    "                \n",
    "        # Last fitness\n",
    "        print('Last Fitness:', FitVector[-1])\n",
    "        \n",
    "        \n",
    "        if Plot:\n",
    "            \n",
    "            ax,ax1 = GetPlot()\n",
    "            ax.plot(x,Act,color='k')\n",
    "            ax.set_ylim(0.,1)\n",
    "            ax.axhline(y=0.75,ls='--',color='r',label='Threshold')\n",
    "            \n",
    "            ax1.set_title('Fitness')\n",
    "            ax1.plot(FitVector)\n",
    "        \n",
    "            ax.legend(loc=0)\n",
    "            \n",
    "            plt.show()\n",
    "            \n",
    "            time.sleep(0.01)\n",
    "        \n",
    "        \n",
    "    \n",
    "    return best_bot, FitVector"
   ]
  },
  {
   "cell_type": "code",
   "execution_count": 69,
   "metadata": {},
   "outputs": [
    {
     "ename": "KeyboardInterrupt",
     "evalue": "",
     "output_type": "error",
     "traceback": [
      "\u001b[1;31m---------------------------------------------------------------------------\u001b[0m",
      "\u001b[1;31mKeyboardInterrupt\u001b[0m                         Traceback (most recent call last)",
      "\u001b[1;32mUntitled-1.ipynb Cell 13\u001b[0m line \u001b[0;36m2\n\u001b[0;32m      <a href='vscode-notebook-cell:Untitled-1.ipynb?jupyter-notebook#X20sdW50aXRsZWQ%3D?line=0'>1</a>\u001b[0m Robots \u001b[39m=\u001b[39m GetRobots(\u001b[39m10\u001b[39m)\n\u001b[1;32m----> <a href='vscode-notebook-cell:Untitled-1.ipynb?jupyter-notebook#X20sdW50aXRsZWQ%3D?line=1'>2</a>\u001b[0m Best, FitVector \u001b[39m=\u001b[39m Genetic(Robots,Plot\u001b[39m=\u001b[39;49m\u001b[39mTrue\u001b[39;49;00m,Plottime\u001b[39m=\u001b[39;49m\u001b[39mTrue\u001b[39;49;00m) \u001b[39m# Apagar Plottime para el entrenamiento\u001b[39;00m\n",
      "\u001b[1;32mUntitled-1.ipynb Cell 13\u001b[0m line \u001b[0;36m2\n\u001b[0;32m     <a href='vscode-notebook-cell:Untitled-1.ipynb?jupyter-notebook#X20sdW50aXRsZWQ%3D?line=18'>19</a>\u001b[0m     p\u001b[39m.\u001b[39mMutate()\n\u001b[0;32m     <a href='vscode-notebook-cell:Untitled-1.ipynb?jupyter-notebook#X20sdW50aXRsZWQ%3D?line=20'>21</a>\u001b[0m \u001b[39m# Evolucionamos\u001b[39;00m\n\u001b[1;32m---> <a href='vscode-notebook-cell:Untitled-1.ipynb?jupyter-notebook#X20sdW50aXRsZWQ%3D?line=21'>22</a>\u001b[0m TimeEvolution(Robots,e,Plottime) \u001b[39m# Apagar dibujar la evolución para entrenar\u001b[39;00m\n\u001b[0;32m     <a href='vscode-notebook-cell:Untitled-1.ipynb?jupyter-notebook#X20sdW50aXRsZWQ%3D?line=23'>24</a>\u001b[0m \u001b[39m# Actualizamos fitness de cada robot\u001b[39;00m\n\u001b[0;32m     <a href='vscode-notebook-cell:Untitled-1.ipynb?jupyter-notebook#X20sdW50aXRsZWQ%3D?line=24'>25</a>\u001b[0m \u001b[39mfor\u001b[39;00m i,p \u001b[39min\u001b[39;00m \u001b[39menumerate\u001b[39m(Robots):\n",
      "\u001b[1;32mUntitled-1.ipynb Cell 13\u001b[0m line \u001b[0;36m2\n\u001b[0;32m     <a href='vscode-notebook-cell:Untitled-1.ipynb?jupyter-notebook#X20sdW50aXRsZWQ%3D?line=25'>26</a>\u001b[0m     \u001b[39mif\u001b[39;00m Plot \u001b[39mand\u001b[39;00m i \u001b[39m<\u001b[39m \u001b[39m5\u001b[39m: \u001b[39m# Solo pintamos los primeros 5, por tiempo de computo\u001b[39;00m\n\u001b[0;32m     <a href='vscode-notebook-cell:Untitled-1.ipynb?jupyter-notebook#X20sdW50aXRsZWQ%3D?line=26'>27</a>\u001b[0m         ax\u001b[39m.\u001b[39mscatter(p\u001b[39m.\u001b[39mr[\u001b[39m0\u001b[39m],p\u001b[39m.\u001b[39mr[\u001b[39m1\u001b[39m],label\u001b[39m=\u001b[39m\u001b[39m'\u001b[39m\u001b[39mId: \u001b[39m\u001b[39m{}\u001b[39;00m\u001b[39m, Steps: \u001b[39m\u001b[39m{:.0f}\u001b[39;00m\u001b[39m'\u001b[39m\u001b[39m.\u001b[39mformat(p\u001b[39m.\u001b[39mId,p\u001b[39m.\u001b[39mSteps))\n\u001b[1;32m---> <a href='vscode-notebook-cell:Untitled-1.ipynb?jupyter-notebook#X20sdW50aXRsZWQ%3D?line=27'>28</a>\u001b[0m         ax\u001b[39m.\u001b[39;49mquiver(p\u001b[39m.\u001b[39;49mr[\u001b[39m0\u001b[39;49m],p\u001b[39m.\u001b[39;49mr[\u001b[39m1\u001b[39;49m],p\u001b[39m.\u001b[39;49mv[\u001b[39m0\u001b[39;49m],p\u001b[39m.\u001b[39;49mv[\u001b[39m1\u001b[39;49m])\n\u001b[0;32m     <a href='vscode-notebook-cell:Untitled-1.ipynb?jupyter-notebook#X20sdW50aXRsZWQ%3D?line=29'>30</a>\u001b[0m \u001b[39m# Pintamos la activaciones de los primeros 5\u001b[39;00m\n\u001b[0;32m     <a href='vscode-notebook-cell:Untitled-1.ipynb?jupyter-notebook#X20sdW50aXRsZWQ%3D?line=31'>32</a>\u001b[0m \u001b[39mif\u001b[39;00m Plot:\n",
      "File \u001b[1;32mc:\\Users\\simon\\Python311\\Lib\\site-packages\\matplotlib\\__init__.py:1461\u001b[0m, in \u001b[0;36m_preprocess_data.<locals>.inner\u001b[1;34m(ax, data, *args, **kwargs)\u001b[0m\n\u001b[0;32m   1458\u001b[0m \u001b[39m@functools\u001b[39m\u001b[39m.\u001b[39mwraps(func)\n\u001b[0;32m   1459\u001b[0m \u001b[39mdef\u001b[39;00m \u001b[39minner\u001b[39m(ax, \u001b[39m*\u001b[39margs, data\u001b[39m=\u001b[39m\u001b[39mNone\u001b[39;00m, \u001b[39m*\u001b[39m\u001b[39m*\u001b[39mkwargs):\n\u001b[0;32m   1460\u001b[0m     \u001b[39mif\u001b[39;00m data \u001b[39mis\u001b[39;00m \u001b[39mNone\u001b[39;00m:\n\u001b[1;32m-> 1461\u001b[0m         \u001b[39mreturn\u001b[39;00m func(ax, \u001b[39m*\u001b[39;49m\u001b[39mmap\u001b[39;49m(sanitize_sequence, args), \u001b[39m*\u001b[39;49m\u001b[39m*\u001b[39;49mkwargs)\n\u001b[0;32m   1463\u001b[0m     bound \u001b[39m=\u001b[39m new_sig\u001b[39m.\u001b[39mbind(ax, \u001b[39m*\u001b[39margs, \u001b[39m*\u001b[39m\u001b[39m*\u001b[39mkwargs)\n\u001b[0;32m   1464\u001b[0m     auto_label \u001b[39m=\u001b[39m (bound\u001b[39m.\u001b[39marguments\u001b[39m.\u001b[39mget(label_namer)\n\u001b[0;32m   1465\u001b[0m                   \u001b[39mor\u001b[39;00m bound\u001b[39m.\u001b[39mkwargs\u001b[39m.\u001b[39mget(label_namer))\n",
      "File \u001b[1;32mc:\\Users\\simon\\Python311\\Lib\\site-packages\\matplotlib\\axes\\_axes.py:5162\u001b[0m, in \u001b[0;36mAxes.quiver\u001b[1;34m(self, *args, **kwargs)\u001b[0m\n\u001b[0;32m   5160\u001b[0m args \u001b[39m=\u001b[39m \u001b[39mself\u001b[39m\u001b[39m.\u001b[39m_quiver_units(args, kwargs)\n\u001b[0;32m   5161\u001b[0m q \u001b[39m=\u001b[39m mquiver\u001b[39m.\u001b[39mQuiver(\u001b[39mself\u001b[39m, \u001b[39m*\u001b[39margs, \u001b[39m*\u001b[39m\u001b[39m*\u001b[39mkwargs)\n\u001b[1;32m-> 5162\u001b[0m \u001b[39mself\u001b[39;49m\u001b[39m.\u001b[39;49madd_collection(q, autolim\u001b[39m=\u001b[39;49m\u001b[39mTrue\u001b[39;49;00m)\n\u001b[0;32m   5163\u001b[0m \u001b[39mself\u001b[39m\u001b[39m.\u001b[39m_request_autoscale_view()\n\u001b[0;32m   5164\u001b[0m \u001b[39mreturn\u001b[39;00m q\n",
      "File \u001b[1;32mc:\\Users\\simon\\Python311\\Lib\\site-packages\\matplotlib\\axes\\_base.py:2265\u001b[0m, in \u001b[0;36m_AxesBase.add_collection\u001b[1;34m(self, collection, autolim)\u001b[0m\n\u001b[0;32m   2263\u001b[0m \u001b[39mself\u001b[39m\u001b[39m.\u001b[39m_unstale_viewLim()\n\u001b[0;32m   2264\u001b[0m datalim \u001b[39m=\u001b[39m collection\u001b[39m.\u001b[39mget_datalim(\u001b[39mself\u001b[39m\u001b[39m.\u001b[39mtransData)\n\u001b[1;32m-> 2265\u001b[0m points \u001b[39m=\u001b[39m datalim\u001b[39m.\u001b[39;49mget_points()\n\u001b[0;32m   2266\u001b[0m \u001b[39mif\u001b[39;00m \u001b[39mnot\u001b[39;00m np\u001b[39m.\u001b[39misinf(datalim\u001b[39m.\u001b[39mminpos)\u001b[39m.\u001b[39mall():\n\u001b[0;32m   2267\u001b[0m     \u001b[39m# By definition, if minpos (minimum positive value) is set\u001b[39;00m\n\u001b[0;32m   2268\u001b[0m     \u001b[39m# (i.e., non-inf), then min(points) <= minpos <= max(points),\u001b[39;00m\n\u001b[0;32m   2269\u001b[0m     \u001b[39m# and minpos would be superfluous. However, we add minpos to\u001b[39;00m\n\u001b[0;32m   2270\u001b[0m     \u001b[39m# the call so that self.dataLim will update its own minpos.\u001b[39;00m\n\u001b[0;32m   2271\u001b[0m     \u001b[39m# This ensures that log scales see the correct minimum.\u001b[39;00m\n\u001b[0;32m   2272\u001b[0m     points \u001b[39m=\u001b[39m np\u001b[39m.\u001b[39mconcatenate([points, [datalim\u001b[39m.\u001b[39mminpos]])\n",
      "File \u001b[1;32mc:\\Users\\simon\\Python311\\Lib\\site-packages\\matplotlib\\transforms.py:1039\u001b[0m, in \u001b[0;36mBbox.get_points\u001b[1;34m(self)\u001b[0m\n\u001b[0;32m   1030\u001b[0m \u001b[39m    \u001b[39m\u001b[39m\"\"\"\u001b[39;00m\n\u001b[0;32m   1031\u001b[0m \u001b[39m    The minimum positive value in the *y*-direction within the Bbox.\u001b[39;00m\n\u001b[0;32m   1032\u001b[0m \n\u001b[1;32m   (...)\u001b[0m\n\u001b[0;32m   1035\u001b[0m \u001b[39m    as the minimum *y*-extent instead of *y0*.\u001b[39;00m\n\u001b[0;32m   1036\u001b[0m \u001b[39m    \"\"\"\u001b[39;00m\n\u001b[0;32m   1037\u001b[0m     \u001b[39mreturn\u001b[39;00m \u001b[39mself\u001b[39m\u001b[39m.\u001b[39m_minpos[\u001b[39m1\u001b[39m]\n\u001b[1;32m-> 1039\u001b[0m \u001b[39mdef\u001b[39;00m \u001b[39mget_points\u001b[39m(\u001b[39mself\u001b[39m):\n\u001b[0;32m   1040\u001b[0m \u001b[39m    \u001b[39m\u001b[39m\"\"\"\u001b[39;00m\n\u001b[0;32m   1041\u001b[0m \u001b[39m    Get the points of the bounding box directly as a numpy array\u001b[39;00m\n\u001b[0;32m   1042\u001b[0m \u001b[39m    of the form: ``[[x0, y0], [x1, y1]]``.\u001b[39;00m\n\u001b[0;32m   1043\u001b[0m \u001b[39m    \"\"\"\u001b[39;00m\n\u001b[0;32m   1044\u001b[0m     \u001b[39mself\u001b[39m\u001b[39m.\u001b[39m_invalid \u001b[39m=\u001b[39m \u001b[39m0\u001b[39m\n",
      "\u001b[1;31mKeyboardInterrupt\u001b[0m: "
     ]
    },
    {
     "data": {
      "image/png": "[encoded data removed]",
      "text/plain": [
       "<Figure size 800x400 with 2 Axes>"
      ]
     },
     "metadata": {},
     "output_type": "display_data"
    }
   ],
   "source": [
    "Robots = GetRobots(10)\n",
    "Best, FitVector = Genetic(Robots,Plot=True,Plottime=True) # Apagar Plottime para el entrenamiento"
   ]
  }
 ],
 "metadata": {
  "kernelspec": {
   "display_name": "Python 3",
   "language": "python",
   "name": "python3"
  },
  "language_info": {
   "codemirror_mode": {
    "name": "ipython",
    "version": 3
   },
   "file_extension": ".py",
   "mimetype": "text/x-python",
   "name": "python",
   "nbconvert_exporter": "python",
   "pygments_lexer": "ipython3",
   "version": "3.11.5"
  }
 },
 "nbformat": 4,
 "nbformat_minor": 2
}
