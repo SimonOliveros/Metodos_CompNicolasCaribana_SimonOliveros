{
 "cells": [
  {
   "cell_type": "code",
   "execution_count": 3,
   "metadata": {},
   "outputs": [
    {
     "data": {
      "text/plain": [
       "array([-2.,  3.,  4.,  0.])"
      ]
     },
     "execution_count": 3,
     "metadata": {},
     "output_type": "execute_result"
    }
   ],
   "source": [
    "import numpy as np\n",
    "\n",
    "#PARTE A\n",
    "u1 = np.array([3, 1, 0, 1])\n",
    "u2 = np.array([1, 2, 1, 1])\n",
    "u3 = np.array([-1, 0, 2, -1])\n",
    "b = np.array([-3, -3, 8, 9])\n",
    "\n",
    "matriz=[[u1,u2,u3]]\n",
    "def minimos_cuadrados(matriz):\n",
    "    matriz_columnas = np.column_stack((u1, u2, u3))\n",
    "    traspuesta=np.transpose(matriz_columnas)\n",
    "    A_por_trasppuesta=np.dot(traspuesta,matriz_columnas)\n",
    "    inversa=np.linalg.inv(A_por_trasppuesta)\n",
    "    inversa_por_transpuesta=np.dot(inversa,traspuesta)\n",
    "    coef=np.dot(inversa_por_transpuesta,b)\n",
    "    salida=np.dot(matriz_columnas,coef)\n",
    "    for i in range(len(salida)):\n",
    "        salida[i]=round(salida[i],14)\n",
    "    return salida\n",
    "\n",
    "\n",
    "\n",
    "\n",
    "minimos_cuadrados(matriz)"
   ]
  },
  {
   "cell_type": "code",
   "execution_count": 4,
   "metadata": {},
   "outputs": [
    {
     "data": {
      "text/plain": [
       "array([-2.,  3.,  4.,  0.])"
      ]
     },
     "execution_count": 4,
     "metadata": {},
     "output_type": "execute_result"
    }
   ],
   "source": [
    "#PARTE B\n",
    "def gram_schmidt(matriz: list):\n",
    "    vectores = np.array(matriz, dtype=float)\n",
    "    num_vectores, vector_length = vectores.shape\n",
    "    \n",
    "    orto_vectores = np.zeros_like(vectores)\n",
    "    \n",
    "    for i in range(num_vectores):\n",
    "        for j in range(i):\n",
    "            projection = np.dot(matriz[i], orto_vectores[j]) / np.dot(orto_vectores[j], orto_vectores[j])\n",
    "            vectores[i] -= projection * orto_vectores[j]\n",
    "        \n",
    "        orto_vectores[i] = vectores[i] / np.linalg.norm(vectores[i])\n",
    "    \n",
    "    return orto_vectores\n",
    "\n",
    "def proyeccion_sobre_base(b, basis):\n",
    "    coef = [np.dot(b, vi) for vi in basis]\n",
    "    \n",
    "    projection = sum(coef[i] * basis[i] for i in range(len(basis)))\n",
    "    for i in range(len(projection)):\n",
    "        projection[i]=round(projection[i],15)\n",
    "    return projection\n",
    "\n",
    "\n",
    "\n",
    "base = gram_schmidt([u1, u2, u3])\n",
    "\n",
    "projection = proyeccion_sobre_base(b, base)\n",
    "\n",
    "projection"
   ]
  }
 ],
 "metadata": {
  "kernelspec": {
   "display_name": "base",
   "language": "python",
   "name": "python3"
  },
  "language_info": {
   "codemirror_mode": {
    "name": "ipython",
    "version": 3
   },
   "file_extension": ".py",
   "mimetype": "text/x-python",
   "name": "python",
   "nbconvert_exporter": "python",
   "pygments_lexer": "ipython3",
   "version": "3.9.13"
  }
 },
 "nbformat": 4,
 "nbformat_minor": 2
}
