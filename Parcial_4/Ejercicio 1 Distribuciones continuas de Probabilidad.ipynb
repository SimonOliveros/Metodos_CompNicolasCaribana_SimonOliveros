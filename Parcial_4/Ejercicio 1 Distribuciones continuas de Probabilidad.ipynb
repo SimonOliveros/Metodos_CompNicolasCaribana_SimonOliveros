{
 "cells": [
  {
   "cell_type": "code",
   "execution_count": 7,
   "metadata": {},
   "outputs": [
    {
     "name": "stdout",
     "output_type": "stream",
     "text": [
      "1.00000000000000\n",
      "2.0 0.0\n",
      "0.555555555555556 0.611111111111111 -0.00617283950617281 -0.00617283950617284\n"
     ]
    }
   ],
   "source": [
    "import sympy as sym\n",
    "\n",
    "#1\n",
    "x=sym.Symbol('x')\n",
    "y=sym.Symbol('y')\n",
    "def Function(x,y):\n",
    "    f=(2/3)*(x+(2*y))\n",
    "    return f\n",
    "f1=Function (x,y)\n",
    "#a\n",
    "g=sym.integrate(f1,(y,0,1))\n",
    "dobleI=sym.integrate(g,(x,0,1))\n",
    "Mayor_Valor=(2/3)*(1+(2*1))\n",
    "Menor_Valor=(2/3)*(0+(2*0))\n",
    "print(dobleI)\n",
    "print(Mayor_Valor,Menor_Valor)\n",
    "\n",
    "#b\n",
    "g=sym.integrate(f1,(y,0,1))\n",
    "h=sym.integrate(f1,(x,0,1))\n",
    "\n",
    "#c\n",
    "Esperadox=sym.integrate(g*x,(x,0,1))\n",
    "\n",
    "#d\n",
    "Esperadoy=sym.integrate(h*y,(y,0,1))\n",
    "\n",
    "#e\n",
    "E_xy=sym.integrate(f1*x*y,(x,0,1),(y,0,1))\n",
    "covarianza1=E_xy-Esperadox*Esperadoy\n",
    "\n",
    "#f\n",
    "covarianza2=sym.integrate((x-Esperadox)*(y-Esperadoy)*f1,(x,0,1),(y,0,1))\n",
    "\n",
    "print(Esperadox,Esperadoy,covarianza1,covarianza2)"
   ]
  }
 ],
 "metadata": {
  "kernelspec": {
   "display_name": "Python 3",
   "language": "python",
   "name": "python3"
  },
  "language_info": {
   "codemirror_mode": {
    "name": "ipython",
    "version": 3
   },
   "file_extension": ".py",
   "mimetype": "text/x-python",
   "name": "python",
   "nbconvert_exporter": "python",
   "pygments_lexer": "ipython3",
   "version": "3.11.5"
  }
 },
 "nbformat": 4,
 "nbformat_minor": 2
}
