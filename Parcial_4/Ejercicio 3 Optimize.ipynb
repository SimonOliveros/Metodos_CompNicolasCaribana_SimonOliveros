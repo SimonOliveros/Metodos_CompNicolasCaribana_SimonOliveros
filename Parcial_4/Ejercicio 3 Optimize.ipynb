{
 "cells": [
  {
   "cell_type": "code",
   "execution_count": 43,
   "metadata": {},
   "outputs": [],
   "source": [
    "import numpy as np\n",
    "import matplotlib.pyplot as plt\n",
    "import scipy.optimize as spo"
   ]
  },
  {
   "cell_type": "code",
   "execution_count": 44,
   "metadata": {},
   "outputs": [],
   "source": [
    "p0=np.array([1,10/3,1])"
   ]
  },
  {
   "cell_type": "code",
   "execution_count": 45,
   "metadata": {},
   "outputs": [],
   "source": [
    "def V(p):\n",
    "    return -p[0]*p[1]*p[2]"
   ]
  },
  {
   "cell_type": "code",
   "execution_count": 46,
   "metadata": {},
   "outputs": [
    {
     "data": {
      "text/plain": [
       " message: Optimization terminated successfully\n",
       " success: True\n",
       "  status: 0\n",
       "     fun: -4.000000340488772\n",
       "       x: [ 2.000e+00  2.000e+00  1.000e+00]\n",
       "     nit: 38\n",
       "     jac: [-2.000e+00 -2.000e+00 -4.000e+00]\n",
       "    nfev: 190\n",
       "    njev: 38"
      ]
     },
     "execution_count": 46,
     "metadata": {},
     "output_type": "execute_result"
    }
   ],
   "source": [
    "bounds = ( (1,100),(1,100) )\n",
    "\n",
    "constraints = ( {'type':'eq','fun': lambda p: p[0]*p[1]+2*p[1]*p[2]+2*p[0]*p[2]-12} )\n",
    "\n",
    "p0 = [1,1,1]\n",
    "result = spo.minimize( V, p0, constraints = constraints )\n",
    "result\n"
   ]
  },
  {
   "cell_type": "markdown",
   "metadata": {},
   "source": [
    "Podemos ver que el máximo volumen se alcanza con 2 lados de longitud=2cm y el último con longitud=2cm"
   ]
  }
 ],
 "metadata": {
  "kernelspec": {
   "display_name": "Python 3",
   "language": "python",
   "name": "python3"
  },
  "language_info": {
   "codemirror_mode": {
    "name": "ipython",
    "version": 3
   },
   "file_extension": ".py",
   "mimetype": "text/x-python",
   "name": "python",
   "nbconvert_exporter": "python",
   "pygments_lexer": "ipython3",
   "version": "3.11.5"
  }
 },
 "nbformat": 4,
 "nbformat_minor": 2
}
