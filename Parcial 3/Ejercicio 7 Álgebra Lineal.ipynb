{
 "cells": [
  {
   "cell_type": "code",
   "execution_count": 11,
   "metadata": {},
   "outputs": [],
   "source": [
    "import numpy as np\n",
    "import sympy as sym"
   ]
  },
  {
   "cell_type": "code",
   "execution_count": 12,
   "metadata": {},
   "outputs": [
    {
     "data": {
      "text/plain": [
       "array([[ 4, -2,  1],\n",
       "       [20, -7, 12],\n",
       "       [-8, 13, 17]])"
      ]
     },
     "execution_count": 12,
     "metadata": {},
     "output_type": "execute_result"
    }
   ],
   "source": [
    "A=np.array([[4, -2, 1], [20, -7, 12], [-8, 13, 17]])\n",
    "A"
   ]
  },
  {
   "cell_type": "code",
   "execution_count": 13,
   "metadata": {},
   "outputs": [],
   "source": [
    "def descomposicionLU(A):\n",
    "  filas_A, columnas_A = A.shape\n",
    "  n=columnas_A\n",
    "  L=np.zeros((n,n))\n",
    "  U=np.zeros((n,n))\n",
    "  U[0,:]=A[0,:]\n",
    "  for i in range(n):\n",
    "    L[i,i]=1\n",
    "  L[1,0]=A[1,0]/U[0,0]\n",
    "  U[1,1]=A[1,1]-(U[0,1]*L[1,0])\n",
    "  U[1,2]=A[1,2]-(L[1,0]*U[0,2])\n",
    "  L[2,0]=A[2,0]/U[0,0]\n",
    "  L[2,1]=(A[2,1]-(U[0,1]*L[2,0]))/U[1,1]\n",
    "  U[2,2]=A[2,2]-(U[0,2]*L[2,0])-(U[1,2]*L[2,1])\n",
    "  return L,U\n"
   ]
  },
  {
   "cell_type": "code",
   "execution_count": 14,
   "metadata": {},
   "outputs": [
    {
     "data": {
      "text/plain": [
       "(array([[ 1.,  0.,  0.],\n",
       "        [ 5.,  1.,  0.],\n",
       "        [-2.,  3.,  1.]]),\n",
       " array([[ 4., -2.,  1.],\n",
       "        [ 0.,  3.,  7.],\n",
       "        [ 0.,  0., -2.]]))"
      ]
     },
     "execution_count": 14,
     "metadata": {},
     "output_type": "execute_result"
    }
   ],
   "source": [
    "A_descompuesta= descomposicionLU(A)\n",
    "A_descompuesta"
   ]
  }
 ],
 "metadata": {
  "kernelspec": {
   "display_name": "Python 3",
   "language": "python",
   "name": "python3"
  },
  "language_info": {
   "codemirror_mode": {
    "name": "ipython",
    "version": 3
   },
   "file_extension": ".py",
   "mimetype": "text/x-python",
   "name": "python",
   "nbconvert_exporter": "python",
   "pygments_lexer": "ipython3",
   "version": "3.11.5"
  }
 },
 "nbformat": 4,
 "nbformat_minor": 2
}
