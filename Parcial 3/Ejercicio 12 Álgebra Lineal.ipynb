{
 "cells": [
  {
   "cell_type": "code",
   "execution_count": 53,
   "metadata": {},
   "outputs": [],
   "source": [
    "import numpy as np\n",
    "v0=[0.5, 0.5, 0.5]\n",
    "v0\n",
    "def e1(x,y,z):\n",
    "  return (6*x)-(2*np.cos(y*z))-1\n",
    "def e2(x,y,z):\n",
    "  return 9*y + (x**2+np.sin(z)+1.06)**(1/2)+0.9\n",
    "def e3(x,y,z):\n",
    "  return 60*z+3*np.exp(-x*y)+10*np.pi-3\n"
   ]
  },
  {
   "cell_type": "code",
   "execution_count": 54,
   "metadata": {},
   "outputs": [],
   "source": [
    "def dx4(f,x,y,z,h):\n",
    "    d=0\n",
    "    if h != 0:\n",
    "      d=(f((x-2*h),y,z)-8*f((x-h),y,z)+8*f((x+h),y,z)-f((x+2*h),y,z))/(12*h)\n",
    "    return d \n",
    "def dy4(f,x,y,z,h):\n",
    "    d=0\n",
    "    if h != 0:\n",
    "      d=(f(x,(y-2*h),z)-8*f(x,(y-h),z)+8*f(x,(y+h),z)-f(x,(y+2*h),z))/(12*h)\n",
    "    return d \n",
    "def dz4(f,x,y,z,h):\n",
    "    d=0\n",
    "    if h != 0:\n",
    "      d=(f(x,y,(z-2*h))-8*f(x,y,(z-h))+8*f(x,y,(z+h))-f(x,y,(z+2*h)))/(12*h)\n",
    "    return d \n",
    "def Grad4(f, x, y, z, h): \n",
    "    grad = np.array([0., 0., 0.])\n",
    "    gradx=dx4(f,x,y,z,h)\n",
    "    grady=dy4(f,x,y,z,h)\n",
    "    gradz=dz4(f,x,y,z,h)\n",
    "    grad[0]=gradx\n",
    "    grad[1]=grady\n",
    "    grad[2]=gradz\n",
    "    return grad\n",
    "\n",
    "def GetJacobian4(v,f1,f2,f3,h):\n",
    "  A=[]\n",
    "  A.append(Grad4(f1,v[0],v[1],v[2],h))\n",
    "  A.append(Grad4(f2,v[0],v[1],v[2],h))\n",
    "  A.append(Grad4(f3,v[0],v[1],v[2],h))\n",
    "  return np.linalg.det(A)"
   ]
  },
  {
   "cell_type": "code",
   "execution_count": 55,
   "metadata": {},
   "outputs": [
    {
     "data": {
      "text/plain": [
       "3239.1490485161194"
      ]
     },
     "execution_count": 55,
     "metadata": {},
     "output_type": "execute_result"
    }
   ],
   "source": [
    "res4= GetJacobian4(v0, e1, e2, e3, 0.01 )\n",
    "res4"
   ]
  },
  {
   "cell_type": "code",
   "execution_count": 56,
   "metadata": {},
   "outputs": [],
   "source": [
    "def dx(f,x,y,z,h):\n",
    "    d=0\n",
    "    if h != 0:\n",
    "      d=(f((x+h),y,z)-f((x-h),y,z))/(2*h)\n",
    "    return d \n",
    "def dy(f,x,y,z,h):\n",
    "    d=0\n",
    "    if h != 0:\n",
    "      d=(f(x,(y+h),z)-f(x,(y-h),z))/(2*h)\n",
    "    return d \n",
    "def dz(f,x,y,z,h):\n",
    "    d=0\n",
    "    if h != 0:\n",
    "      d=(f(x,y,(z+h))-f(x,y,(z-h)))/(2*h)\n",
    "    return d \n",
    "def Grad2(f, x, y, z, h): \n",
    "    grad = np.array([0., 0., 0.])\n",
    "    gradx=dx(f,x,y,z,h)\n",
    "    grady=dy(f,x,y,z,h)\n",
    "    gradz=dz(f,x,y,z,h)\n",
    "    grad[0]=gradx\n",
    "    grad[1]=grady\n",
    "    grad[2]=gradz\n",
    "    return grad\n",
    "def GetJacobian2(v,f1,f2,f3,h):\n",
    "  A=[]\n",
    "  A.append(Grad2(f1,v[0],v[1],v[2],h))\n",
    "  A.append(Grad2(f2,v[0],v[1],v[2],h))\n",
    "  A.append(Grad2(f3,v[0],v[1],v[2],h))\n",
    "  return np.linalg.det(A)"
   ]
  },
  {
   "cell_type": "code",
   "execution_count": 57,
   "metadata": {},
   "outputs": [
    {
     "data": {
      "text/plain": [
       "3239.1492018183885"
      ]
     },
     "execution_count": 57,
     "metadata": {},
     "output_type": "execute_result"
    }
   ],
   "source": [
    "res2= GetJacobian2(v0, e1, e2, e3, 0.01)\n",
    "res2"
   ]
  }
 ],
 "metadata": {
  "kernelspec": {
   "display_name": "Python 3",
   "language": "python",
   "name": "python3"
  },
  "language_info": {
   "codemirror_mode": {
    "name": "ipython",
    "version": 3
   },
   "file_extension": ".py",
   "mimetype": "text/x-python",
   "name": "python",
   "nbconvert_exporter": "python",
   "pygments_lexer": "ipython3",
   "version": "3.11.5"
  }
 },
 "nbformat": 4,
 "nbformat_minor": 2
}
